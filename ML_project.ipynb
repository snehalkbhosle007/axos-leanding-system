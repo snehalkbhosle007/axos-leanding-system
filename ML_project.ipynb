{
 "cells": [
  {
   "cell_type": "code",
   "execution_count": 1,
   "id": "131174ec",
   "metadata": {},
   "outputs": [],
   "source": [
    "import pandas as pd\n",
    "import numpy as np\n",
    "from sklearn.linear_model import LogisticRegression\n",
    "from sklearn.model_selection import train_test_split\n",
    "from sklearn.model_selection import RepeatedStratifiedKFold,cross_val_score\n",
    "from sklearn.pipeline import Pipeline\n",
    "from sklearn.base import BaseEstimator,TransformerMixin\n",
    "from sklearn.metrics import confusion_matrix,classification_report\n",
    "from sklearn.metrics import roc_curve,roc_auc_score,precision_recall_curve,auc\n",
    "import matplotlib.pyplot as plt\n",
    "import seaborn as sns\n",
    "from sklearn.feature_selection import f_classif\n",
    "from scipy.stats import chi2_contingency\n",
    "import warnings\n",
    "warnings.filterwarnings(\"ignore\")"
   ]
  },
  {
   "cell_type": "code",
   "execution_count": 2,
   "id": "1f456599",
   "metadata": {},
   "outputs": [
    {
     "data": {
      "text/html": [
       "<div>\n",
       "<style scoped>\n",
       "    .dataframe tbody tr th:only-of-type {\n",
       "        vertical-align: middle;\n",
       "    }\n",
       "\n",
       "    .dataframe tbody tr th {\n",
       "        vertical-align: top;\n",
       "    }\n",
       "\n",
       "    .dataframe thead th {\n",
       "        text-align: right;\n",
       "    }\n",
       "</style>\n",
       "<table border=\"1\" class=\"dataframe\">\n",
       "  <thead>\n",
       "    <tr style=\"text-align: right;\">\n",
       "      <th></th>\n",
       "      <th>Unnamed: 0</th>\n",
       "      <th>id</th>\n",
       "      <th>member_id</th>\n",
       "      <th>loan_amnt</th>\n",
       "      <th>funded_amnt</th>\n",
       "      <th>funded_amnt_inv</th>\n",
       "      <th>term</th>\n",
       "      <th>int_rate</th>\n",
       "      <th>installment</th>\n",
       "      <th>grade</th>\n",
       "      <th>...</th>\n",
       "      <th>total_bal_il</th>\n",
       "      <th>il_util</th>\n",
       "      <th>open_rv_12m</th>\n",
       "      <th>open_rv_24m</th>\n",
       "      <th>max_bal_bc</th>\n",
       "      <th>all_util</th>\n",
       "      <th>total_rev_hi_lim</th>\n",
       "      <th>inq_fi</th>\n",
       "      <th>total_cu_tl</th>\n",
       "      <th>inq_last_12m</th>\n",
       "    </tr>\n",
       "  </thead>\n",
       "  <tbody>\n",
       "    <tr>\n",
       "      <th>0</th>\n",
       "      <td>0</td>\n",
       "      <td>1077501</td>\n",
       "      <td>1296599</td>\n",
       "      <td>5000</td>\n",
       "      <td>5000</td>\n",
       "      <td>4975.0</td>\n",
       "      <td>36 months</td>\n",
       "      <td>10.65</td>\n",
       "      <td>162.87</td>\n",
       "      <td>B</td>\n",
       "      <td>...</td>\n",
       "      <td>NaN</td>\n",
       "      <td>NaN</td>\n",
       "      <td>NaN</td>\n",
       "      <td>NaN</td>\n",
       "      <td>NaN</td>\n",
       "      <td>NaN</td>\n",
       "      <td>NaN</td>\n",
       "      <td>NaN</td>\n",
       "      <td>NaN</td>\n",
       "      <td>NaN</td>\n",
       "    </tr>\n",
       "    <tr>\n",
       "      <th>1</th>\n",
       "      <td>1</td>\n",
       "      <td>1077430</td>\n",
       "      <td>1314167</td>\n",
       "      <td>2500</td>\n",
       "      <td>2500</td>\n",
       "      <td>2500.0</td>\n",
       "      <td>60 months</td>\n",
       "      <td>15.27</td>\n",
       "      <td>59.83</td>\n",
       "      <td>C</td>\n",
       "      <td>...</td>\n",
       "      <td>NaN</td>\n",
       "      <td>NaN</td>\n",
       "      <td>NaN</td>\n",
       "      <td>NaN</td>\n",
       "      <td>NaN</td>\n",
       "      <td>NaN</td>\n",
       "      <td>NaN</td>\n",
       "      <td>NaN</td>\n",
       "      <td>NaN</td>\n",
       "      <td>NaN</td>\n",
       "    </tr>\n",
       "    <tr>\n",
       "      <th>2</th>\n",
       "      <td>2</td>\n",
       "      <td>1077175</td>\n",
       "      <td>1313524</td>\n",
       "      <td>2400</td>\n",
       "      <td>2400</td>\n",
       "      <td>2400.0</td>\n",
       "      <td>36 months</td>\n",
       "      <td>15.96</td>\n",
       "      <td>84.33</td>\n",
       "      <td>C</td>\n",
       "      <td>...</td>\n",
       "      <td>NaN</td>\n",
       "      <td>NaN</td>\n",
       "      <td>NaN</td>\n",
       "      <td>NaN</td>\n",
       "      <td>NaN</td>\n",
       "      <td>NaN</td>\n",
       "      <td>NaN</td>\n",
       "      <td>NaN</td>\n",
       "      <td>NaN</td>\n",
       "      <td>NaN</td>\n",
       "    </tr>\n",
       "    <tr>\n",
       "      <th>3</th>\n",
       "      <td>3</td>\n",
       "      <td>1076863</td>\n",
       "      <td>1277178</td>\n",
       "      <td>10000</td>\n",
       "      <td>10000</td>\n",
       "      <td>10000.0</td>\n",
       "      <td>36 months</td>\n",
       "      <td>13.49</td>\n",
       "      <td>339.31</td>\n",
       "      <td>C</td>\n",
       "      <td>...</td>\n",
       "      <td>NaN</td>\n",
       "      <td>NaN</td>\n",
       "      <td>NaN</td>\n",
       "      <td>NaN</td>\n",
       "      <td>NaN</td>\n",
       "      <td>NaN</td>\n",
       "      <td>NaN</td>\n",
       "      <td>NaN</td>\n",
       "      <td>NaN</td>\n",
       "      <td>NaN</td>\n",
       "    </tr>\n",
       "    <tr>\n",
       "      <th>4</th>\n",
       "      <td>4</td>\n",
       "      <td>1075358</td>\n",
       "      <td>1311748</td>\n",
       "      <td>3000</td>\n",
       "      <td>3000</td>\n",
       "      <td>3000.0</td>\n",
       "      <td>60 months</td>\n",
       "      <td>12.69</td>\n",
       "      <td>67.79</td>\n",
       "      <td>B</td>\n",
       "      <td>...</td>\n",
       "      <td>NaN</td>\n",
       "      <td>NaN</td>\n",
       "      <td>NaN</td>\n",
       "      <td>NaN</td>\n",
       "      <td>NaN</td>\n",
       "      <td>NaN</td>\n",
       "      <td>NaN</td>\n",
       "      <td>NaN</td>\n",
       "      <td>NaN</td>\n",
       "      <td>NaN</td>\n",
       "    </tr>\n",
       "  </tbody>\n",
       "</table>\n",
       "<p>5 rows × 75 columns</p>\n",
       "</div>"
      ],
      "text/plain": [
       "   Unnamed: 0       id  member_id  loan_amnt  funded_amnt  funded_amnt_inv  \\\n",
       "0           0  1077501    1296599       5000         5000           4975.0   \n",
       "1           1  1077430    1314167       2500         2500           2500.0   \n",
       "2           2  1077175    1313524       2400         2400           2400.0   \n",
       "3           3  1076863    1277178      10000        10000          10000.0   \n",
       "4           4  1075358    1311748       3000         3000           3000.0   \n",
       "\n",
       "         term  int_rate  installment grade  ... total_bal_il il_util  \\\n",
       "0   36 months     10.65       162.87     B  ...          NaN     NaN   \n",
       "1   60 months     15.27        59.83     C  ...          NaN     NaN   \n",
       "2   36 months     15.96        84.33     C  ...          NaN     NaN   \n",
       "3   36 months     13.49       339.31     C  ...          NaN     NaN   \n",
       "4   60 months     12.69        67.79     B  ...          NaN     NaN   \n",
       "\n",
       "  open_rv_12m open_rv_24m  max_bal_bc all_util total_rev_hi_lim inq_fi  \\\n",
       "0         NaN         NaN         NaN      NaN              NaN    NaN   \n",
       "1         NaN         NaN         NaN      NaN              NaN    NaN   \n",
       "2         NaN         NaN         NaN      NaN              NaN    NaN   \n",
       "3         NaN         NaN         NaN      NaN              NaN    NaN   \n",
       "4         NaN         NaN         NaN      NaN              NaN    NaN   \n",
       "\n",
       "  total_cu_tl inq_last_12m  \n",
       "0         NaN          NaN  \n",
       "1         NaN          NaN  \n",
       "2         NaN          NaN  \n",
       "3         NaN          NaN  \n",
       "4         NaN          NaN  \n",
       "\n",
       "[5 rows x 75 columns]"
      ]
     },
     "execution_count": 2,
     "metadata": {},
     "output_type": "execute_result"
    }
   ],
   "source": [
    "df = pd.read_csv(\"Downloads\\loan_data_2007_2014 (3).csv\")\n",
    "df.head()"
   ]
  },
  {
   "cell_type": "code",
   "execution_count": 3,
   "id": "74b3f78e",
   "metadata": {},
   "outputs": [
    {
     "data": {
      "text/html": [
       "<div>\n",
       "<style scoped>\n",
       "    .dataframe tbody tr th:only-of-type {\n",
       "        vertical-align: middle;\n",
       "    }\n",
       "\n",
       "    .dataframe tbody tr th {\n",
       "        vertical-align: top;\n",
       "    }\n",
       "\n",
       "    .dataframe thead th {\n",
       "        text-align: right;\n",
       "    }\n",
       "</style>\n",
       "<table border=\"1\" class=\"dataframe\">\n",
       "  <thead>\n",
       "    <tr style=\"text-align: right;\">\n",
       "      <th></th>\n",
       "      <th>Unnamed: 0</th>\n",
       "      <th>id</th>\n",
       "      <th>member_id</th>\n",
       "      <th>loan_amnt</th>\n",
       "      <th>funded_amnt</th>\n",
       "      <th>funded_amnt_inv</th>\n",
       "      <th>term</th>\n",
       "      <th>int_rate</th>\n",
       "      <th>installment</th>\n",
       "      <th>grade</th>\n",
       "      <th>...</th>\n",
       "      <th>total_bal_il</th>\n",
       "      <th>il_util</th>\n",
       "      <th>open_rv_12m</th>\n",
       "      <th>open_rv_24m</th>\n",
       "      <th>max_bal_bc</th>\n",
       "      <th>all_util</th>\n",
       "      <th>total_rev_hi_lim</th>\n",
       "      <th>inq_fi</th>\n",
       "      <th>total_cu_tl</th>\n",
       "      <th>inq_last_12m</th>\n",
       "    </tr>\n",
       "  </thead>\n",
       "  <tbody>\n",
       "    <tr>\n",
       "      <th>0</th>\n",
       "      <td>0</td>\n",
       "      <td>1077501</td>\n",
       "      <td>1296599</td>\n",
       "      <td>5000</td>\n",
       "      <td>5000</td>\n",
       "      <td>4975.0</td>\n",
       "      <td>36 months</td>\n",
       "      <td>10.65</td>\n",
       "      <td>162.87</td>\n",
       "      <td>B</td>\n",
       "      <td>...</td>\n",
       "      <td>NaN</td>\n",
       "      <td>NaN</td>\n",
       "      <td>NaN</td>\n",
       "      <td>NaN</td>\n",
       "      <td>NaN</td>\n",
       "      <td>NaN</td>\n",
       "      <td>NaN</td>\n",
       "      <td>NaN</td>\n",
       "      <td>NaN</td>\n",
       "      <td>NaN</td>\n",
       "    </tr>\n",
       "    <tr>\n",
       "      <th>1</th>\n",
       "      <td>1</td>\n",
       "      <td>1077430</td>\n",
       "      <td>1314167</td>\n",
       "      <td>2500</td>\n",
       "      <td>2500</td>\n",
       "      <td>2500.0</td>\n",
       "      <td>60 months</td>\n",
       "      <td>15.27</td>\n",
       "      <td>59.83</td>\n",
       "      <td>C</td>\n",
       "      <td>...</td>\n",
       "      <td>NaN</td>\n",
       "      <td>NaN</td>\n",
       "      <td>NaN</td>\n",
       "      <td>NaN</td>\n",
       "      <td>NaN</td>\n",
       "      <td>NaN</td>\n",
       "      <td>NaN</td>\n",
       "      <td>NaN</td>\n",
       "      <td>NaN</td>\n",
       "      <td>NaN</td>\n",
       "    </tr>\n",
       "    <tr>\n",
       "      <th>2</th>\n",
       "      <td>2</td>\n",
       "      <td>1077175</td>\n",
       "      <td>1313524</td>\n",
       "      <td>2400</td>\n",
       "      <td>2400</td>\n",
       "      <td>2400.0</td>\n",
       "      <td>36 months</td>\n",
       "      <td>15.96</td>\n",
       "      <td>84.33</td>\n",
       "      <td>C</td>\n",
       "      <td>...</td>\n",
       "      <td>NaN</td>\n",
       "      <td>NaN</td>\n",
       "      <td>NaN</td>\n",
       "      <td>NaN</td>\n",
       "      <td>NaN</td>\n",
       "      <td>NaN</td>\n",
       "      <td>NaN</td>\n",
       "      <td>NaN</td>\n",
       "      <td>NaN</td>\n",
       "      <td>NaN</td>\n",
       "    </tr>\n",
       "    <tr>\n",
       "      <th>3</th>\n",
       "      <td>3</td>\n",
       "      <td>1076863</td>\n",
       "      <td>1277178</td>\n",
       "      <td>10000</td>\n",
       "      <td>10000</td>\n",
       "      <td>10000.0</td>\n",
       "      <td>36 months</td>\n",
       "      <td>13.49</td>\n",
       "      <td>339.31</td>\n",
       "      <td>C</td>\n",
       "      <td>...</td>\n",
       "      <td>NaN</td>\n",
       "      <td>NaN</td>\n",
       "      <td>NaN</td>\n",
       "      <td>NaN</td>\n",
       "      <td>NaN</td>\n",
       "      <td>NaN</td>\n",
       "      <td>NaN</td>\n",
       "      <td>NaN</td>\n",
       "      <td>NaN</td>\n",
       "      <td>NaN</td>\n",
       "    </tr>\n",
       "    <tr>\n",
       "      <th>4</th>\n",
       "      <td>4</td>\n",
       "      <td>1075358</td>\n",
       "      <td>1311748</td>\n",
       "      <td>3000</td>\n",
       "      <td>3000</td>\n",
       "      <td>3000.0</td>\n",
       "      <td>60 months</td>\n",
       "      <td>12.69</td>\n",
       "      <td>67.79</td>\n",
       "      <td>B</td>\n",
       "      <td>...</td>\n",
       "      <td>NaN</td>\n",
       "      <td>NaN</td>\n",
       "      <td>NaN</td>\n",
       "      <td>NaN</td>\n",
       "      <td>NaN</td>\n",
       "      <td>NaN</td>\n",
       "      <td>NaN</td>\n",
       "      <td>NaN</td>\n",
       "      <td>NaN</td>\n",
       "      <td>NaN</td>\n",
       "    </tr>\n",
       "  </tbody>\n",
       "</table>\n",
       "<p>5 rows × 75 columns</p>\n",
       "</div>"
      ],
      "text/plain": [
       "   Unnamed: 0       id  member_id  loan_amnt  funded_amnt  funded_amnt_inv  \\\n",
       "0           0  1077501    1296599       5000         5000           4975.0   \n",
       "1           1  1077430    1314167       2500         2500           2500.0   \n",
       "2           2  1077175    1313524       2400         2400           2400.0   \n",
       "3           3  1076863    1277178      10000        10000          10000.0   \n",
       "4           4  1075358    1311748       3000         3000           3000.0   \n",
       "\n",
       "         term  int_rate  installment grade  ... total_bal_il il_util  \\\n",
       "0   36 months     10.65       162.87     B  ...          NaN     NaN   \n",
       "1   60 months     15.27        59.83     C  ...          NaN     NaN   \n",
       "2   36 months     15.96        84.33     C  ...          NaN     NaN   \n",
       "3   36 months     13.49       339.31     C  ...          NaN     NaN   \n",
       "4   60 months     12.69        67.79     B  ...          NaN     NaN   \n",
       "\n",
       "  open_rv_12m open_rv_24m  max_bal_bc all_util total_rev_hi_lim inq_fi  \\\n",
       "0         NaN         NaN         NaN      NaN              NaN    NaN   \n",
       "1         NaN         NaN         NaN      NaN              NaN    NaN   \n",
       "2         NaN         NaN         NaN      NaN              NaN    NaN   \n",
       "3         NaN         NaN         NaN      NaN              NaN    NaN   \n",
       "4         NaN         NaN         NaN      NaN              NaN    NaN   \n",
       "\n",
       "  total_cu_tl inq_last_12m  \n",
       "0         NaN          NaN  \n",
       "1         NaN          NaN  \n",
       "2         NaN          NaN  \n",
       "3         NaN          NaN  \n",
       "4         NaN          NaN  \n",
       "\n",
       "[5 rows x 75 columns]"
      ]
     },
     "execution_count": 3,
     "metadata": {},
     "output_type": "execute_result"
    }
   ],
   "source": [
    "loan_dat = df.copy()\n",
    "loan_dat.head()"
   ]
  },
  {
   "cell_type": "code",
   "execution_count": 4,
   "id": "264e99a3",
   "metadata": {},
   "outputs": [
    {
     "name": "stdout",
     "output_type": "stream",
     "text": [
      "<class 'pandas.core.frame.DataFrame'>\n",
      "RangeIndex: 466285 entries, 0 to 466284\n",
      "Data columns (total 75 columns):\n",
      " #   Column                       Non-Null Count   Dtype  \n",
      "---  ------                       --------------   -----  \n",
      " 0   Unnamed: 0                   466285 non-null  int64  \n",
      " 1   id                           466285 non-null  int64  \n",
      " 2   member_id                    466285 non-null  int64  \n",
      " 3   loan_amnt                    466285 non-null  int64  \n",
      " 4   funded_amnt                  466285 non-null  int64  \n",
      " 5   funded_amnt_inv              466285 non-null  float64\n",
      " 6   term                         466285 non-null  object \n",
      " 7   int_rate                     466285 non-null  float64\n",
      " 8   installment                  466285 non-null  float64\n",
      " 9   grade                        466285 non-null  object \n",
      " 10  sub_grade                    466285 non-null  object \n",
      " 11  emp_title                    438697 non-null  object \n",
      " 12  emp_length                   445277 non-null  object \n",
      " 13  home_ownership               466285 non-null  object \n",
      " 14  annual_inc                   466281 non-null  float64\n",
      " 15  verification_status          466285 non-null  object \n",
      " 16  issue_d                      466285 non-null  object \n",
      " 17  loan_status                  466285 non-null  object \n",
      " 18  pymnt_plan                   466285 non-null  object \n",
      " 19  url                          466285 non-null  object \n",
      " 20  desc                         125983 non-null  object \n",
      " 21  purpose                      466285 non-null  object \n",
      " 22  title                        466265 non-null  object \n",
      " 23  zip_code                     466285 non-null  object \n",
      " 24  addr_state                   466285 non-null  object \n",
      " 25  dti                          466285 non-null  float64\n",
      " 26  delinq_2yrs                  466256 non-null  float64\n",
      " 27  earliest_cr_line             466256 non-null  object \n",
      " 28  inq_last_6mths               466256 non-null  float64\n",
      " 29  mths_since_last_delinq       215934 non-null  float64\n",
      " 30  mths_since_last_record       62638 non-null   float64\n",
      " 31  open_acc                     466256 non-null  float64\n",
      " 32  pub_rec                      466256 non-null  float64\n",
      " 33  revol_bal                    466285 non-null  int64  \n",
      " 34  revol_util                   465945 non-null  float64\n",
      " 35  total_acc                    466256 non-null  float64\n",
      " 36  initial_list_status          466285 non-null  object \n",
      " 37  out_prncp                    466285 non-null  float64\n",
      " 38  out_prncp_inv                466285 non-null  float64\n",
      " 39  total_pymnt                  466285 non-null  float64\n",
      " 40  total_pymnt_inv              466285 non-null  float64\n",
      " 41  total_rec_prncp              466285 non-null  float64\n",
      " 42  total_rec_int                466285 non-null  float64\n",
      " 43  total_rec_late_fee           466285 non-null  float64\n",
      " 44  recoveries                   466285 non-null  float64\n",
      " 45  collection_recovery_fee      466285 non-null  float64\n",
      " 46  last_pymnt_d                 465909 non-null  object \n",
      " 47  last_pymnt_amnt              466285 non-null  float64\n",
      " 48  next_pymnt_d                 239071 non-null  object \n",
      " 49  last_credit_pull_d           466243 non-null  object \n",
      " 50  collections_12_mths_ex_med   466140 non-null  float64\n",
      " 51  mths_since_last_major_derog  98974 non-null   float64\n",
      " 52  policy_code                  466285 non-null  int64  \n",
      " 53  application_type             466285 non-null  object \n",
      " 54  annual_inc_joint             0 non-null       float64\n",
      " 55  dti_joint                    0 non-null       float64\n",
      " 56  verification_status_joint    0 non-null       float64\n",
      " 57  acc_now_delinq               466256 non-null  float64\n",
      " 58  tot_coll_amt                 396009 non-null  float64\n",
      " 59  tot_cur_bal                  396009 non-null  float64\n",
      " 60  open_acc_6m                  0 non-null       float64\n",
      " 61  open_il_6m                   0 non-null       float64\n",
      " 62  open_il_12m                  0 non-null       float64\n",
      " 63  open_il_24m                  0 non-null       float64\n",
      " 64  mths_since_rcnt_il           0 non-null       float64\n",
      " 65  total_bal_il                 0 non-null       float64\n",
      " 66  il_util                      0 non-null       float64\n",
      " 67  open_rv_12m                  0 non-null       float64\n",
      " 68  open_rv_24m                  0 non-null       float64\n",
      " 69  max_bal_bc                   0 non-null       float64\n",
      " 70  all_util                     0 non-null       float64\n",
      " 71  total_rev_hi_lim             396009 non-null  float64\n",
      " 72  inq_fi                       0 non-null       float64\n",
      " 73  total_cu_tl                  0 non-null       float64\n",
      " 74  inq_last_12m                 0 non-null       float64\n",
      "dtypes: float64(46), int64(7), object(22)\n",
      "memory usage: 266.8+ MB\n"
     ]
    }
   ],
   "source": [
    "loan_dat.info()"
   ]
  },
  {
   "cell_type": "code",
   "execution_count": 5,
   "id": "2fb3eac8",
   "metadata": {},
   "outputs": [
    {
     "name": "stdout",
     "output_type": "stream",
     "text": [
      "Database dimension : (466285, 75)\n",
      "Databse size : 34971375\n",
      "Number of row : 466285\n",
      "Number of columns : 75\n"
     ]
    }
   ],
   "source": [
    "print(\"Database dimension :\" ,loan_dat.shape)\n",
    "print(\"Databse size :\" ,loan_dat.size)\n",
    "print(\"Number of row :\",len(loan_dat.index))\n",
    "print(\"Number of columns :\",len(loan_dat.columns))"
   ]
  },
  {
   "cell_type": "code",
   "execution_count": 6,
   "id": "757ece24",
   "metadata": {},
   "outputs": [
    {
     "data": {
      "text/plain": [
       "mths_since_last_record       0.865666\n",
       "annual_inc_joint             1.000000\n",
       "dti_joint                    1.000000\n",
       "verification_status_joint    1.000000\n",
       "open_acc_6m                  1.000000\n",
       "open_il_6m                   1.000000\n",
       "open_il_12m                  1.000000\n",
       "open_il_24m                  1.000000\n",
       "mths_since_rcnt_il           1.000000\n",
       "total_bal_il                 1.000000\n",
       "il_util                      1.000000\n",
       "open_rv_12m                  1.000000\n",
       "open_rv_24m                  1.000000\n",
       "max_bal_bc                   1.000000\n",
       "all_util                     1.000000\n",
       "inq_fi                       1.000000\n",
       "total_cu_tl                  1.000000\n",
       "inq_last_12m                 1.000000\n",
       "dtype: float64"
      ]
     },
     "execution_count": 6,
     "metadata": {},
     "output_type": "execute_result"
    }
   ],
   "source": [
    "# identifying the features with more than 80% null values\n",
    "na_values=loan_dat.isnull().mean()\n",
    "na_values[na_values>0.8]"
   ]
  },
  {
   "cell_type": "code",
   "execution_count": 7,
   "id": "382242ab",
   "metadata": {},
   "outputs": [],
   "source": [
    "# dropping the features with more than 80% null values\n",
    "loan_dat.dropna(thresh=loan_dat.shape[0]*0.2,axis=1,inplace=True)"
   ]
  },
  {
   "cell_type": "code",
   "execution_count": 8,
   "id": "3003cfbe",
   "metadata": {},
   "outputs": [],
   "source": [
    "# dropping unneccessary  features\n",
    "# dropping features with future data which is irrelevant for historical data analysis\n",
    "loan_dat.drop(['Unnamed: 0','id','member_id','sub_grade','emp_title','url','desc','title','addr_state'\n",
    " ,'recoveries','collection_recovery_fee','next_pymnt_d','zip_code','total_rec_prncp', \n",
    " 'total_rec_late_fee'],axis=1,inplace=True)\n"
   ]
  },
  {
   "cell_type": "code",
   "execution_count": 9,
   "id": "0104c343",
   "metadata": {},
   "outputs": [
    {
     "name": "stdout",
     "output_type": "stream",
     "text": [
      "<class 'pandas.core.frame.DataFrame'>\n",
      "RangeIndex: 466285 entries, 0 to 466284\n",
      "Data columns (total 42 columns):\n",
      " #   Column                       Non-Null Count   Dtype  \n",
      "---  ------                       --------------   -----  \n",
      " 0   loan_amnt                    466285 non-null  int64  \n",
      " 1   funded_amnt                  466285 non-null  int64  \n",
      " 2   funded_amnt_inv              466285 non-null  float64\n",
      " 3   term                         466285 non-null  object \n",
      " 4   int_rate                     466285 non-null  float64\n",
      " 5   installment                  466285 non-null  float64\n",
      " 6   grade                        466285 non-null  object \n",
      " 7   emp_length                   445277 non-null  object \n",
      " 8   home_ownership               466285 non-null  object \n",
      " 9   annual_inc                   466281 non-null  float64\n",
      " 10  verification_status          466285 non-null  object \n",
      " 11  issue_d                      466285 non-null  object \n",
      " 12  loan_status                  466285 non-null  object \n",
      " 13  pymnt_plan                   466285 non-null  object \n",
      " 14  purpose                      466285 non-null  object \n",
      " 15  dti                          466285 non-null  float64\n",
      " 16  delinq_2yrs                  466256 non-null  float64\n",
      " 17  earliest_cr_line             466256 non-null  object \n",
      " 18  inq_last_6mths               466256 non-null  float64\n",
      " 19  mths_since_last_delinq       215934 non-null  float64\n",
      " 20  open_acc                     466256 non-null  float64\n",
      " 21  pub_rec                      466256 non-null  float64\n",
      " 22  revol_bal                    466285 non-null  int64  \n",
      " 23  revol_util                   465945 non-null  float64\n",
      " 24  total_acc                    466256 non-null  float64\n",
      " 25  initial_list_status          466285 non-null  object \n",
      " 26  out_prncp                    466285 non-null  float64\n",
      " 27  out_prncp_inv                466285 non-null  float64\n",
      " 28  total_pymnt                  466285 non-null  float64\n",
      " 29  total_pymnt_inv              466285 non-null  float64\n",
      " 30  total_rec_int                466285 non-null  float64\n",
      " 31  last_pymnt_d                 465909 non-null  object \n",
      " 32  last_pymnt_amnt              466285 non-null  float64\n",
      " 33  last_credit_pull_d           466243 non-null  object \n",
      " 34  collections_12_mths_ex_med   466140 non-null  float64\n",
      " 35  mths_since_last_major_derog  98974 non-null   float64\n",
      " 36  policy_code                  466285 non-null  int64  \n",
      " 37  application_type             466285 non-null  object \n",
      " 38  acc_now_delinq               466256 non-null  float64\n",
      " 39  tot_coll_amt                 396009 non-null  float64\n",
      " 40  tot_cur_bal                  396009 non-null  float64\n",
      " 41  total_rev_hi_lim             396009 non-null  float64\n",
      "dtypes: float64(24), int64(4), object(14)\n",
      "memory usage: 149.4+ MB\n"
     ]
    }
   ],
   "source": [
    "loan_dat.info()"
   ]
  },
  {
   "cell_type": "markdown",
   "id": "d47f3cd1",
   "metadata": {},
   "source": [
    "### data cleaning"
   ]
  },
  {
   "cell_type": "code",
   "execution_count": 10,
   "id": "1c56ce22",
   "metadata": {},
   "outputs": [
    {
     "data": {
      "text/plain": [
       "loan_amnt                           0\n",
       "funded_amnt                         0\n",
       "funded_amnt_inv                     0\n",
       "term                                0\n",
       "int_rate                            0\n",
       "installment                         0\n",
       "grade                               0\n",
       "emp_length                      21008\n",
       "home_ownership                      0\n",
       "annual_inc                          4\n",
       "verification_status                 0\n",
       "issue_d                             0\n",
       "loan_status                         0\n",
       "pymnt_plan                          0\n",
       "purpose                             0\n",
       "dti                                 0\n",
       "delinq_2yrs                        29\n",
       "earliest_cr_line                   29\n",
       "inq_last_6mths                     29\n",
       "mths_since_last_delinq         250351\n",
       "open_acc                           29\n",
       "pub_rec                            29\n",
       "revol_bal                           0\n",
       "revol_util                        340\n",
       "total_acc                          29\n",
       "initial_list_status                 0\n",
       "out_prncp                           0\n",
       "out_prncp_inv                       0\n",
       "total_pymnt                         0\n",
       "total_pymnt_inv                     0\n",
       "total_rec_int                       0\n",
       "last_pymnt_d                      376\n",
       "last_pymnt_amnt                     0\n",
       "last_credit_pull_d                 42\n",
       "collections_12_mths_ex_med        145\n",
       "mths_since_last_major_derog    367311\n",
       "policy_code                         0\n",
       "application_type                    0\n",
       "acc_now_delinq                     29\n",
       "tot_coll_amt                    70276\n",
       "tot_cur_bal                     70276\n",
       "total_rev_hi_lim                70276\n",
       "dtype: int64"
      ]
     },
     "execution_count": 10,
     "metadata": {},
     "output_type": "execute_result"
    }
   ],
   "source": [
    "loan_dat.isna().sum()"
   ]
  },
  {
   "cell_type": "markdown",
   "id": "946c6703",
   "metadata": {},
   "source": [
    "### Treating missing values"
   ]
  },
  {
   "cell_type": "markdown",
   "id": "b5595b5a",
   "metadata": {},
   "source": [
    "##### inq_last_6mths"
   ]
  },
  {
   "cell_type": "code",
   "execution_count": 11,
   "id": "fd998de8",
   "metadata": {},
   "outputs": [
    {
     "data": {
      "text/plain": [
       "0.0     0.517952\n",
       "1.0     0.279134\n",
       "2.0     0.124020\n",
       "3.0     0.053889\n",
       "4.0     0.015530\n",
       "5.0     0.005937\n",
       "6.0     0.002548\n",
       "7.0     0.000418\n",
       "8.0     0.000262\n",
       "9.0     0.000107\n",
       "10.0    0.000051\n",
       "11.0    0.000032\n",
       "12.0    0.000032\n",
       "15.0    0.000019\n",
       "13.0    0.000013\n",
       "14.0    0.000013\n",
       "18.0    0.000009\n",
       "16.0    0.000006\n",
       "17.0    0.000004\n",
       "24.0    0.000004\n",
       "19.0    0.000004\n",
       "32.0    0.000002\n",
       "33.0    0.000002\n",
       "31.0    0.000002\n",
       "28.0    0.000002\n",
       "25.0    0.000002\n",
       "27.0    0.000002\n",
       "20.0    0.000002\n",
       "Name: inq_last_6mths, dtype: float64"
      ]
     },
     "execution_count": 11,
     "metadata": {},
     "output_type": "execute_result"
    }
   ],
   "source": [
    "loan_dat['inq_last_6mths'].value_counts(normalize=True)"
   ]
  },
  {
   "cell_type": "code",
   "execution_count": 12,
   "id": "b5efe5b1",
   "metadata": {},
   "outputs": [
    {
     "name": "stdout",
     "output_type": "stream",
     "text": [
      "the mode is : 0.0\n",
      "after treating the null values are: <bound method NDFrame._add_numeric_operations.<locals>.sum of 0         False\n",
      "1         False\n",
      "2         False\n",
      "3         False\n",
      "4         False\n",
      "          ...  \n",
      "466280    False\n",
      "466281    False\n",
      "466282    False\n",
      "466283    False\n",
      "466284    False\n",
      "Name: inq_last_6mths, Length: 466285, dtype: bool>\n"
     ]
    }
   ],
   "source": [
    "mode = loan_dat['inq_last_6mths'].mode()[0]\n",
    "print('the mode is :',mode)\n",
    "loan_dat['inq_last_6mths'] = loan_dat['inq_last_6mths'].fillna(mode)\n",
    "print('after treating the null values are:',loan_dat['inq_last_6mths'].isna().sum)"
   ]
  },
  {
   "cell_type": "markdown",
   "id": "d1f86d94",
   "metadata": {},
   "source": [
    "#### mths_since_last_delinq"
   ]
  },
  {
   "cell_type": "code",
   "execution_count": 13,
   "id": "852e2637",
   "metadata": {},
   "outputs": [
    {
     "data": {
      "text/plain": [
       "9.0      0.020182\n",
       "8.0      0.019784\n",
       "13.0     0.019728\n",
       "12.0     0.019418\n",
       "10.0     0.019200\n",
       "           ...   \n",
       "156.0    0.000005\n",
       "143.0    0.000005\n",
       "118.0    0.000005\n",
       "149.0    0.000005\n",
       "121.0    0.000005\n",
       "Name: mths_since_last_delinq, Length: 145, dtype: float64"
      ]
     },
     "execution_count": 13,
     "metadata": {},
     "output_type": "execute_result"
    }
   ],
   "source": [
    "loan_dat['mths_since_last_delinq'].value_counts(normalize=True)"
   ]
  },
  {
   "cell_type": "code",
   "execution_count": 14,
   "id": "863531b9",
   "metadata": {},
   "outputs": [
    {
     "name": "stdout",
     "output_type": "stream",
     "text": [
      "the mode is : 9.0\n",
      "after treating the null values are: <bound method NDFrame._add_numeric_operations.<locals>.sum of 0         False\n",
      "1         False\n",
      "2         False\n",
      "3         False\n",
      "4         False\n",
      "          ...  \n",
      "466280    False\n",
      "466281    False\n",
      "466282    False\n",
      "466283    False\n",
      "466284    False\n",
      "Name: mths_since_last_delinq, Length: 466285, dtype: bool>\n"
     ]
    }
   ],
   "source": [
    "mode = loan_dat['mths_since_last_delinq'].mode()[0]\n",
    "print('the mode is :',mode)\n",
    "loan_dat['mths_since_last_delinq'] = loan_dat['mths_since_last_delinq'].fillna(mode)\n",
    "print('after treating the null values are:',loan_dat['mths_since_last_delinq'].isna().sum)"
   ]
  },
  {
   "cell_type": "markdown",
   "id": "f0fc9fbb",
   "metadata": {},
   "source": [
    "#### pub_rec"
   ]
  },
  {
   "cell_type": "code",
   "execution_count": 15,
   "id": "b25ea8d7",
   "metadata": {},
   "outputs": [
    {
     "data": {
      "text/plain": [
       "0.0     0.868392\n",
       "1.0     0.113781\n",
       "2.0     0.012062\n",
       "3.0     0.003455\n",
       "4.0     0.001115\n",
       "5.0     0.000592\n",
       "6.0     0.000292\n",
       "7.0     0.000133\n",
       "8.0     0.000062\n",
       "9.0     0.000034\n",
       "10.0    0.000028\n",
       "11.0    0.000017\n",
       "12.0    0.000004\n",
       "18.0    0.000004\n",
       "13.0    0.000004\n",
       "40.0    0.000002\n",
       "34.0    0.000002\n",
       "21.0    0.000002\n",
       "63.0    0.000002\n",
       "54.0    0.000002\n",
       "14.0    0.000002\n",
       "15.0    0.000002\n",
       "16.0    0.000002\n",
       "19.0    0.000002\n",
       "49.0    0.000002\n",
       "17.0    0.000002\n",
       "Name: pub_rec, dtype: float64"
      ]
     },
     "execution_count": 15,
     "metadata": {},
     "output_type": "execute_result"
    }
   ],
   "source": [
    "loan_dat['pub_rec'].value_counts(normalize=True)"
   ]
  },
  {
   "cell_type": "code",
   "execution_count": 16,
   "id": "af6343c2",
   "metadata": {},
   "outputs": [
    {
     "name": "stdout",
     "output_type": "stream",
     "text": [
      "the mode is : 0.0\n",
      "after treating the null values are: <bound method NDFrame._add_numeric_operations.<locals>.sum of 0         False\n",
      "1         False\n",
      "2         False\n",
      "3         False\n",
      "4         False\n",
      "          ...  \n",
      "466280    False\n",
      "466281    False\n",
      "466282    False\n",
      "466283    False\n",
      "466284    False\n",
      "Name: pub_rec, Length: 466285, dtype: bool>\n"
     ]
    }
   ],
   "source": [
    "mode = loan_dat['pub_rec'].mode()[0]\n",
    "print('the mode is :',mode)\n",
    "loan_dat['pub_rec'] = loan_dat['pub_rec'].fillna(mode)\n",
    "print('after treating the null values are:',loan_dat['pub_rec'].isna().sum)"
   ]
  },
  {
   "cell_type": "markdown",
   "id": "3a50adb7",
   "metadata": {},
   "source": [
    "#### earliest_cr_line"
   ]
  },
  {
   "cell_type": "code",
   "execution_count": 17,
   "id": "5bae3805",
   "metadata": {},
   "outputs": [
    {
     "data": {
      "text/plain": [
       "Oct-00    0.007880\n",
       "Aug-00    0.007715\n",
       "Aug-01    0.007410\n",
       "Oct-99    0.007305\n",
       "Oct-01    0.007140\n",
       "            ...   \n",
       "Jul-55    0.000002\n",
       "Feb-57    0.000002\n",
       "Oct-54    0.000002\n",
       "May-53    0.000002\n",
       "Nov-56    0.000002\n",
       "Name: earliest_cr_line, Length: 664, dtype: float64"
      ]
     },
     "execution_count": 17,
     "metadata": {},
     "output_type": "execute_result"
    }
   ],
   "source": [
    "loan_dat['earliest_cr_line'].value_counts(normalize=True)"
   ]
  },
  {
   "cell_type": "code",
   "execution_count": 18,
   "id": "3676f1fb",
   "metadata": {},
   "outputs": [
    {
     "name": "stdout",
     "output_type": "stream",
     "text": [
      "the mode is : Oct-00\n",
      "after treating the null values are: <bound method NDFrame._add_numeric_operations.<locals>.sum of 0         False\n",
      "1         False\n",
      "2         False\n",
      "3         False\n",
      "4         False\n",
      "          ...  \n",
      "466280    False\n",
      "466281    False\n",
      "466282    False\n",
      "466283    False\n",
      "466284    False\n",
      "Name: earliest_cr_line, Length: 466285, dtype: bool>\n"
     ]
    }
   ],
   "source": [
    "mode = loan_dat['earliest_cr_line'].mode()[0]\n",
    "print('the mode is :',mode)\n",
    "loan_dat['earliest_cr_line'] = loan_dat['earliest_cr_line'].fillna(mode)\n",
    "print('after treating the null values are:',loan_dat['earliest_cr_line'].isna().sum)"
   ]
  },
  {
   "cell_type": "markdown",
   "id": "720e5632",
   "metadata": {},
   "source": [
    "#### revol_util"
   ]
  },
  {
   "cell_type": "code",
   "execution_count": 19,
   "id": "940a5a1c",
   "metadata": {},
   "outputs": [
    {
     "data": {
      "text/plain": [
       "0.00      0.004902\n",
       "58.00     0.001854\n",
       "53.00     0.001824\n",
       "59.00     0.001814\n",
       "61.00     0.001786\n",
       "            ...   \n",
       "8.49      0.000002\n",
       "88.48     0.000002\n",
       "7.43      0.000002\n",
       "11.63     0.000002\n",
       "141.80    0.000002\n",
       "Name: revol_util, Length: 1269, dtype: float64"
      ]
     },
     "execution_count": 19,
     "metadata": {},
     "output_type": "execute_result"
    }
   ],
   "source": [
    "loan_dat['revol_util'].value_counts(normalize=True)"
   ]
  },
  {
   "cell_type": "code",
   "execution_count": 20,
   "id": "e87d9c3a",
   "metadata": {},
   "outputs": [
    {
     "name": "stdout",
     "output_type": "stream",
     "text": [
      "the mode is : 0.0\n",
      "after treating the null values are: <bound method NDFrame._add_numeric_operations.<locals>.sum of 0         False\n",
      "1         False\n",
      "2         False\n",
      "3         False\n",
      "4         False\n",
      "          ...  \n",
      "466280    False\n",
      "466281    False\n",
      "466282    False\n",
      "466283    False\n",
      "466284    False\n",
      "Name: revol_util, Length: 466285, dtype: bool>\n"
     ]
    }
   ],
   "source": [
    "mode = loan_dat['revol_util'].mode()[0]\n",
    "print('the mode is :',mode)\n",
    "loan_dat['revol_util'] = loan_dat['revol_util'].fillna(mode)\n",
    "print('after treating the null values are:',loan_dat['revol_util'].isna().sum)"
   ]
  },
  {
   "cell_type": "markdown",
   "id": "9e9d53cc",
   "metadata": {},
   "source": [
    "#### last_pymnt_d"
   ]
  },
  {
   "cell_type": "code",
   "execution_count": 21,
   "id": "9e7bd347",
   "metadata": {},
   "outputs": [
    {
     "data": {
      "text/plain": [
       "Jan-16    0.385526\n",
       "Dec-15    0.133073\n",
       "Jul-15    0.025119\n",
       "Oct-15    0.024142\n",
       "Sep-15    0.021901\n",
       "            ...   \n",
       "Jun-08    0.000043\n",
       "Mar-08    0.000039\n",
       "Jan-08    0.000024\n",
       "Feb-08    0.000017\n",
       "Dec-07    0.000004\n",
       "Name: last_pymnt_d, Length: 98, dtype: float64"
      ]
     },
     "execution_count": 21,
     "metadata": {},
     "output_type": "execute_result"
    }
   ],
   "source": [
    "loan_dat['last_pymnt_d'].value_counts(normalize=True)"
   ]
  },
  {
   "cell_type": "code",
   "execution_count": 22,
   "id": "4391e0a1",
   "metadata": {},
   "outputs": [
    {
     "name": "stdout",
     "output_type": "stream",
     "text": [
      "the mode is : Jan-16\n",
      "after treating the null values are: <bound method NDFrame._add_numeric_operations.<locals>.sum of 0         False\n",
      "1         False\n",
      "2         False\n",
      "3         False\n",
      "4         False\n",
      "          ...  \n",
      "466280    False\n",
      "466281    False\n",
      "466282    False\n",
      "466283    False\n",
      "466284    False\n",
      "Name: last_pymnt_d, Length: 466285, dtype: bool>\n"
     ]
    }
   ],
   "source": [
    "mode = loan_dat['last_pymnt_d'].mode()[0]\n",
    "print('the mode is :',mode)\n",
    "loan_dat['last_pymnt_d'] = loan_dat['last_pymnt_d'].fillna(mode)\n",
    "print('after treating the null values are:',loan_dat['last_pymnt_d'].isna().sum)"
   ]
  },
  {
   "cell_type": "markdown",
   "id": "0c51fa26",
   "metadata": {},
   "source": [
    "#### last_credit_pull_d"
   ]
  },
  {
   "cell_type": "code",
   "execution_count": 23,
   "id": "c2641dd0",
   "metadata": {},
   "outputs": [
    {
     "data": {
      "text/plain": [
       "Jan-16    0.702850\n",
       "Dec-15    0.030010\n",
       "Nov-15    0.017982\n",
       "Sep-15    0.017268\n",
       "Oct-15    0.017066\n",
       "            ...   \n",
       "Nov-07    0.000006\n",
       "May-08    0.000002\n",
       "Jun-08    0.000002\n",
       "Jul-08    0.000002\n",
       "Jul-07    0.000002\n",
       "Name: last_credit_pull_d, Length: 103, dtype: float64"
      ]
     },
     "execution_count": 23,
     "metadata": {},
     "output_type": "execute_result"
    }
   ],
   "source": [
    "loan_dat['last_credit_pull_d'].value_counts(normalize=True)"
   ]
  },
  {
   "cell_type": "code",
   "execution_count": 24,
   "id": "934a8b8a",
   "metadata": {},
   "outputs": [
    {
     "name": "stdout",
     "output_type": "stream",
     "text": [
      "the mode is : Jan-16\n",
      "after treating the null values are: <bound method NDFrame._add_numeric_operations.<locals>.sum of 0         False\n",
      "1         False\n",
      "2         False\n",
      "3         False\n",
      "4         False\n",
      "          ...  \n",
      "466280    False\n",
      "466281    False\n",
      "466282    False\n",
      "466283    False\n",
      "466284    False\n",
      "Name: last_credit_pull_d, Length: 466285, dtype: bool>\n"
     ]
    }
   ],
   "source": [
    "mode = loan_dat['last_credit_pull_d'].mode()[0]\n",
    "print('the mode is :',mode)\n",
    "loan_dat['last_credit_pull_d'] = loan_dat['last_credit_pull_d'].fillna(mode)\n",
    "print('after treating the null values are:',loan_dat['last_credit_pull_d'].isna().sum)"
   ]
  },
  {
   "cell_type": "markdown",
   "id": "c4604175",
   "metadata": {},
   "source": [
    "#### collections_12_mths_ex_med"
   ]
  },
  {
   "cell_type": "code",
   "execution_count": 25,
   "id": "7a087489",
   "metadata": {},
   "outputs": [
    {
     "data": {
      "text/plain": [
       "0.0     0.991603\n",
       "1.0     0.007862\n",
       "2.0     0.000470\n",
       "3.0     0.000041\n",
       "4.0     0.000015\n",
       "6.0     0.000002\n",
       "16.0    0.000002\n",
       "20.0    0.000002\n",
       "5.0     0.000002\n",
       "Name: collections_12_mths_ex_med, dtype: float64"
      ]
     },
     "execution_count": 25,
     "metadata": {},
     "output_type": "execute_result"
    }
   ],
   "source": [
    "loan_dat['collections_12_mths_ex_med'].value_counts(normalize=True)"
   ]
  },
  {
   "cell_type": "code",
   "execution_count": 26,
   "id": "97221a98",
   "metadata": {},
   "outputs": [
    {
     "name": "stdout",
     "output_type": "stream",
     "text": [
      "the mode is : 0.0\n",
      "after treating the null values are: <bound method NDFrame._add_numeric_operations.<locals>.sum of 0         False\n",
      "1         False\n",
      "2         False\n",
      "3         False\n",
      "4         False\n",
      "          ...  \n",
      "466280    False\n",
      "466281    False\n",
      "466282    False\n",
      "466283    False\n",
      "466284    False\n",
      "Name: collections_12_mths_ex_med, Length: 466285, dtype: bool>\n"
     ]
    }
   ],
   "source": [
    "mode = loan_dat['collections_12_mths_ex_med'].mode()[0]\n",
    "print('the mode is :',mode)\n",
    "loan_dat['collections_12_mths_ex_med'] = loan_dat['collections_12_mths_ex_med'].fillna(mode)\n",
    "print('after treating the null values are:',loan_dat['collections_12_mths_ex_med'].isna().sum)"
   ]
  },
  {
   "cell_type": "markdown",
   "id": "9ff36570",
   "metadata": {},
   "source": [
    "#### acc_now_delinq"
   ]
  },
  {
   "cell_type": "code",
   "execution_count": 27,
   "id": "cb07895e",
   "metadata": {},
   "outputs": [
    {
     "data": {
      "text/plain": [
       "0.0    0.996285\n",
       "1.0    0.003481\n",
       "2.0    0.000197\n",
       "3.0    0.000024\n",
       "4.0    0.000009\n",
       "5.0    0.000004\n",
       "Name: acc_now_delinq, dtype: float64"
      ]
     },
     "execution_count": 27,
     "metadata": {},
     "output_type": "execute_result"
    }
   ],
   "source": [
    "loan_dat['acc_now_delinq'].value_counts(normalize=True)"
   ]
  },
  {
   "cell_type": "code",
   "execution_count": 28,
   "id": "46bca4ed",
   "metadata": {},
   "outputs": [
    {
     "name": "stdout",
     "output_type": "stream",
     "text": [
      "the mode is : 0.0\n",
      "after treating the null values are: <bound method NDFrame._add_numeric_operations.<locals>.sum of 0         False\n",
      "1         False\n",
      "2         False\n",
      "3         False\n",
      "4         False\n",
      "          ...  \n",
      "466280    False\n",
      "466281    False\n",
      "466282    False\n",
      "466283    False\n",
      "466284    False\n",
      "Name: acc_now_delinq, Length: 466285, dtype: bool>\n"
     ]
    }
   ],
   "source": [
    "mode = loan_dat['acc_now_delinq'].mode()[0]\n",
    "print('the mode is :',mode)\n",
    "loan_dat['acc_now_delinq'] = loan_dat['acc_now_delinq'].fillna(mode)\n",
    "print('after treating the null values are:',loan_dat['acc_now_delinq'].isna().sum)"
   ]
  },
  {
   "cell_type": "markdown",
   "id": "15456e3c",
   "metadata": {},
   "source": [
    "#### tot_coll_amt"
   ]
  },
  {
   "cell_type": "code",
   "execution_count": 29,
   "id": "9a28f486",
   "metadata": {},
   "outputs": [
    {
     "data": {
      "text/plain": [
       "0.0        0.874372\n",
       "50.0       0.002114\n",
       "100.0      0.001641\n",
       "75.0       0.001300\n",
       "60.0       0.000780\n",
       "             ...   \n",
       "13779.0    0.000003\n",
       "15036.0    0.000003\n",
       "15986.0    0.000003\n",
       "2477.0     0.000003\n",
       "6532.0     0.000003\n",
       "Name: tot_coll_amt, Length: 6321, dtype: float64"
      ]
     },
     "execution_count": 29,
     "metadata": {},
     "output_type": "execute_result"
    }
   ],
   "source": [
    "loan_dat['tot_coll_amt'].value_counts(normalize=True)"
   ]
  },
  {
   "cell_type": "code",
   "execution_count": 30,
   "id": "f6e1d671",
   "metadata": {},
   "outputs": [
    {
     "name": "stdout",
     "output_type": "stream",
     "text": [
      "the mode is : 0.0\n",
      "after treating the null values are: <bound method NDFrame._add_numeric_operations.<locals>.sum of 0         False\n",
      "1         False\n",
      "2         False\n",
      "3         False\n",
      "4         False\n",
      "          ...  \n",
      "466280    False\n",
      "466281    False\n",
      "466282    False\n",
      "466283    False\n",
      "466284    False\n",
      "Name: tot_coll_amt, Length: 466285, dtype: bool>\n"
     ]
    }
   ],
   "source": [
    "mode = loan_dat['tot_coll_amt'].mode()[0]\n",
    "print('the mode is :',mode)\n",
    "loan_dat['tot_coll_amt'] = loan_dat['tot_coll_amt'].fillna(mode)\n",
    "print('after treating the null values are:',loan_dat['tot_coll_amt'].isna().sum)"
   ]
  },
  {
   "cell_type": "markdown",
   "id": "91544e5c",
   "metadata": {},
   "source": [
    "#### total_rev_hi_lim"
   ]
  },
  {
   "cell_type": "code",
   "execution_count": 31,
   "id": "7435816a",
   "metadata": {},
   "outputs": [
    {
     "data": {
      "text/plain": [
       "15000.0     0.003515\n",
       "13500.0     0.003343\n",
       "10000.0     0.003323\n",
       "12000.0     0.003285\n",
       "12500.0     0.003268\n",
       "              ...   \n",
       "29117.0     0.000003\n",
       "31243.0     0.000003\n",
       "84434.0     0.000003\n",
       "89535.0     0.000003\n",
       "479500.0    0.000003\n",
       "Name: total_rev_hi_lim, Length: 14612, dtype: float64"
      ]
     },
     "execution_count": 31,
     "metadata": {},
     "output_type": "execute_result"
    }
   ],
   "source": [
    "loan_dat['total_rev_hi_lim'].value_counts(normalize=True)"
   ]
  },
  {
   "cell_type": "code",
   "execution_count": 32,
   "id": "9f6c723c",
   "metadata": {},
   "outputs": [
    {
     "name": "stdout",
     "output_type": "stream",
     "text": [
      "the mode is : 15000.0\n",
      "after treating the null values are: <bound method NDFrame._add_numeric_operations.<locals>.sum of 0         False\n",
      "1         False\n",
      "2         False\n",
      "3         False\n",
      "4         False\n",
      "          ...  \n",
      "466280    False\n",
      "466281    False\n",
      "466282    False\n",
      "466283    False\n",
      "466284    False\n",
      "Name: total_rev_hi_lim, Length: 466285, dtype: bool>\n"
     ]
    }
   ],
   "source": [
    "mode = loan_dat['total_rev_hi_lim'].mode()[0]\n",
    "print('the mode is :',mode)\n",
    "loan_dat['total_rev_hi_lim'] = loan_dat['total_rev_hi_lim'].fillna(mode)\n",
    "print('after treating the null values are:',loan_dat['total_rev_hi_lim'].isna().sum)"
   ]
  },
  {
   "cell_type": "markdown",
   "id": "4cc1d846",
   "metadata": {},
   "source": [
    "#### tot_cur_bal"
   ]
  },
  {
   "cell_type": "code",
   "execution_count": 33,
   "id": "3792e355",
   "metadata": {},
   "outputs": [
    {
     "data": {
      "text/plain": [
       "0.0         0.000197\n",
       "14186.0     0.000038\n",
       "23254.0     0.000038\n",
       "28674.0     0.000035\n",
       "30491.0     0.000035\n",
       "              ...   \n",
       "179524.0    0.000003\n",
       "217367.0    0.000003\n",
       "111276.0    0.000003\n",
       "260290.0    0.000003\n",
       "57477.0     0.000003\n",
       "Name: tot_cur_bal, Length: 220690, dtype: float64"
      ]
     },
     "execution_count": 33,
     "metadata": {},
     "output_type": "execute_result"
    }
   ],
   "source": [
    "\n",
    "loan_dat['tot_cur_bal'].value_counts(normalize=True)"
   ]
  },
  {
   "cell_type": "code",
   "execution_count": 34,
   "id": "433fefe0",
   "metadata": {},
   "outputs": [
    {
     "name": "stdout",
     "output_type": "stream",
     "text": [
      "the mode is : 0.0\n",
      "after treating the null values are: <bound method NDFrame._add_numeric_operations.<locals>.sum of 0         False\n",
      "1         False\n",
      "2         False\n",
      "3         False\n",
      "4         False\n",
      "          ...  \n",
      "466280    False\n",
      "466281    False\n",
      "466282    False\n",
      "466283    False\n",
      "466284    False\n",
      "Name: tot_cur_bal, Length: 466285, dtype: bool>\n"
     ]
    }
   ],
   "source": [
    "mode = loan_dat['tot_cur_bal'].mode()[0]\n",
    "print('the mode is :',mode)\n",
    "loan_dat['tot_cur_bal'] = loan_dat['tot_cur_bal'].fillna(mode)\n",
    "print('after treating the null values are:',loan_dat['tot_cur_bal'].isna().sum)"
   ]
  },
  {
   "cell_type": "markdown",
   "id": "61936fb0",
   "metadata": {},
   "source": [
    "#### mths_since_last_major_derog"
   ]
  },
  {
   "cell_type": "code",
   "execution_count": 35,
   "id": "5aeaaa73",
   "metadata": {},
   "outputs": [
    {
     "data": {
      "text/plain": [
       "45.0     0.016893\n",
       "46.0     0.016873\n",
       "42.0     0.016732\n",
       "48.0     0.016540\n",
       "41.0     0.016085\n",
       "           ...   \n",
       "162.0    0.000010\n",
       "144.0    0.000010\n",
       "165.0    0.000010\n",
       "169.0    0.000010\n",
       "145.0    0.000010\n",
       "Name: mths_since_last_major_derog, Length: 162, dtype: float64"
      ]
     },
     "execution_count": 35,
     "metadata": {},
     "output_type": "execute_result"
    }
   ],
   "source": [
    "loan_dat['mths_since_last_major_derog'].value_counts(normalize=True)"
   ]
  },
  {
   "cell_type": "code",
   "execution_count": 36,
   "id": "709fc5a1",
   "metadata": {},
   "outputs": [
    {
     "name": "stdout",
     "output_type": "stream",
     "text": [
      "the mode is : 45.0\n",
      "after treating the null values are: <bound method NDFrame._add_numeric_operations.<locals>.sum of 0         False\n",
      "1         False\n",
      "2         False\n",
      "3         False\n",
      "4         False\n",
      "          ...  \n",
      "466280    False\n",
      "466281    False\n",
      "466282    False\n",
      "466283    False\n",
      "466284    False\n",
      "Name: mths_since_last_major_derog, Length: 466285, dtype: bool>\n"
     ]
    }
   ],
   "source": [
    "mode = loan_dat['mths_since_last_major_derog'].mode()[0]\n",
    "print('the mode is :',mode)\n",
    "loan_dat['mths_since_last_major_derog'] = loan_dat['mths_since_last_major_derog'].fillna(mode)\n",
    "print('after treating the null values are:',loan_dat['mths_since_last_major_derog'].isna().sum)"
   ]
  },
  {
   "cell_type": "markdown",
   "id": "ad7270d1",
   "metadata": {},
   "source": [
    "#### total_acc"
   ]
  },
  {
   "cell_type": "code",
   "execution_count": 37,
   "id": "0cbc651d",
   "metadata": {},
   "outputs": [
    {
     "data": {
      "text/plain": [
       "21.0     0.036647\n",
       "20.0     0.036617\n",
       "22.0     0.036521\n",
       "23.0     0.035858\n",
       "19.0     0.035837\n",
       "           ...   \n",
       "106.0    0.000002\n",
       "156.0    0.000002\n",
       "101.0    0.000002\n",
       "96.0     0.000002\n",
       "118.0    0.000002\n",
       "Name: total_acc, Length: 112, dtype: float64"
      ]
     },
     "execution_count": 37,
     "metadata": {},
     "output_type": "execute_result"
    }
   ],
   "source": [
    "loan_dat['total_acc'].value_counts(normalize=True)"
   ]
  },
  {
   "cell_type": "code",
   "execution_count": 38,
   "id": "eccad24d",
   "metadata": {},
   "outputs": [
    {
     "name": "stdout",
     "output_type": "stream",
     "text": [
      "the mode is : 21.0\n",
      "after treating the null values are: <bound method NDFrame._add_numeric_operations.<locals>.sum of 0         False\n",
      "1         False\n",
      "2         False\n",
      "3         False\n",
      "4         False\n",
      "          ...  \n",
      "466280    False\n",
      "466281    False\n",
      "466282    False\n",
      "466283    False\n",
      "466284    False\n",
      "Name: total_acc, Length: 466285, dtype: bool>\n"
     ]
    }
   ],
   "source": [
    "mode = loan_dat['total_acc'].mode()[0]\n",
    "print('the mode is :',mode)\n",
    "loan_dat['total_acc'] = loan_dat['total_acc'].fillna(mode)\n",
    "print('after treating the null values are:',loan_dat['total_acc'].isna().sum)"
   ]
  },
  {
   "cell_type": "markdown",
   "id": "9ffe018c",
   "metadata": {},
   "source": [
    "#### open_acc"
   ]
  },
  {
   "cell_type": "code",
   "execution_count": 39,
   "id": "534ef765",
   "metadata": {},
   "outputs": [
    {
     "data": {
      "text/plain": [
       "9.0     0.094410\n",
       "10.0    0.091177\n",
       "8.0     0.089850\n",
       "11.0    0.083885\n",
       "7.0     0.080647\n",
       "          ...   \n",
       "55.0    0.000004\n",
       "62.0    0.000002\n",
       "84.0    0.000002\n",
       "75.0    0.000002\n",
       "61.0    0.000002\n",
       "Name: open_acc, Length: 62, dtype: float64"
      ]
     },
     "execution_count": 39,
     "metadata": {},
     "output_type": "execute_result"
    }
   ],
   "source": [
    "loan_dat['open_acc'].value_counts(normalize=True)"
   ]
  },
  {
   "cell_type": "code",
   "execution_count": 40,
   "id": "453fb86a",
   "metadata": {},
   "outputs": [
    {
     "name": "stdout",
     "output_type": "stream",
     "text": [
      "the mode is : 9.0\n",
      "after treating the null values are: <bound method NDFrame._add_numeric_operations.<locals>.sum of 0         False\n",
      "1         False\n",
      "2         False\n",
      "3         False\n",
      "4         False\n",
      "          ...  \n",
      "466280    False\n",
      "466281    False\n",
      "466282    False\n",
      "466283    False\n",
      "466284    False\n",
      "Name: open_acc, Length: 466285, dtype: bool>\n"
     ]
    }
   ],
   "source": [
    "mode = loan_dat['open_acc'].mode()[0]\n",
    "print('the mode is :',mode)\n",
    "loan_dat['open_acc'] = loan_dat['open_acc'].fillna(mode)\n",
    "print('after treating the null values are:',loan_dat['open_acc'].isna().sum)"
   ]
  },
  {
   "cell_type": "markdown",
   "id": "fe655892",
   "metadata": {},
   "source": [
    "\n",
    "#### emp_length"
   ]
  },
  {
   "cell_type": "code",
   "execution_count": 109,
   "id": "c61c85f7",
   "metadata": {},
   "outputs": [
    {
     "data": {
      "text/plain": [
       "10+ years    0.336979\n",
       "2 years      0.092915\n",
       "3 years      0.082187\n",
       "< 1 year     0.081444\n",
       "5 years      0.069112\n",
       "1 year       0.066525\n",
       "4 years      0.062934\n",
       "7 years      0.058795\n",
       "6 years      0.058642\n",
       "8 years      0.050295\n",
       "9 years      0.040173\n",
       "Name: emp_length, dtype: float64"
      ]
     },
     "execution_count": 109,
     "metadata": {},
     "output_type": "execute_result"
    }
   ],
   "source": [
    "loan_dat['emp_length'].value_counts(normalize=True)"
   ]
  },
  {
   "cell_type": "code",
   "execution_count": 110,
   "id": "c3666e6a",
   "metadata": {},
   "outputs": [
    {
     "name": "stdout",
     "output_type": "stream",
     "text": [
      "the mode is : 10+ years\n",
      "after treating the null values are: <bound method NDFrame._add_numeric_operations.<locals>.sum of 0         False\n",
      "1         False\n",
      "2         False\n",
      "3         False\n",
      "4         False\n",
      "          ...  \n",
      "466280    False\n",
      "466281    False\n",
      "466282    False\n",
      "466283    False\n",
      "466284    False\n",
      "Name: emp_length, Length: 466285, dtype: bool>\n"
     ]
    }
   ],
   "source": [
    "mode = loan_dat['emp_length'].mode()[0]\n",
    "print('the mode is :',mode)\n",
    "loan_dat['emp_length'] = loan_dat['emp_length'].fillna(mode)\n",
    "print('after treating the null values are:',loan_dat['emp_length'].isna().sum)"
   ]
  },
  {
   "cell_type": "markdown",
   "id": "81eab245",
   "metadata": {},
   "source": [
    "#### annual_inc"
   ]
  },
  {
   "cell_type": "code",
   "execution_count": 43,
   "id": "d23b068d",
   "metadata": {},
   "outputs": [
    {
     "data": {
      "text/plain": [
       "60000.0     0.038560\n",
       "50000.0     0.034205\n",
       "65000.0     0.028333\n",
       "40000.0     0.027589\n",
       "70000.0     0.026671\n",
       "              ...   \n",
       "93548.0     0.000002\n",
       "80840.0     0.000002\n",
       "257100.0    0.000002\n",
       "91660.0     0.000002\n",
       "72787.0     0.000002\n",
       "Name: annual_inc, Length: 31901, dtype: float64"
      ]
     },
     "execution_count": 43,
     "metadata": {},
     "output_type": "execute_result"
    }
   ],
   "source": [
    "loan_dat['annual_inc'].value_counts(normalize=True)"
   ]
  },
  {
   "cell_type": "code",
   "execution_count": 44,
   "id": "ae406b7a",
   "metadata": {},
   "outputs": [
    {
     "name": "stdout",
     "output_type": "stream",
     "text": [
      "the mode is : 60000.0\n",
      "after treating the null values are: <bound method NDFrame._add_numeric_operations.<locals>.sum of 0         False\n",
      "1         False\n",
      "2         False\n",
      "3         False\n",
      "4         False\n",
      "          ...  \n",
      "466280    False\n",
      "466281    False\n",
      "466282    False\n",
      "466283    False\n",
      "466284    False\n",
      "Name: annual_inc, Length: 466285, dtype: bool>\n"
     ]
    }
   ],
   "source": [
    "mode = loan_dat['annual_inc'].mode()[0]\n",
    "print('the mode is :',mode)\n",
    "loan_dat['annual_inc'] = loan_dat['annual_inc'].fillna(mode)\n",
    "print('after treating the null values are:',loan_dat['annual_inc'].isna().sum)"
   ]
  },
  {
   "cell_type": "markdown",
   "id": "24d8590c",
   "metadata": {},
   "source": [
    "#### delinq_2yrs"
   ]
  },
  {
   "cell_type": "code",
   "execution_count": 45,
   "id": "03d8a85f",
   "metadata": {},
   "outputs": [
    {
     "data": {
      "text/plain": [
       "0.0     0.821338\n",
       "1.0     0.120586\n",
       "2.0     0.034981\n",
       "3.0     0.012191\n",
       "4.0     0.005100\n",
       "5.0     0.002651\n",
       "6.0     0.001349\n",
       "7.0     0.000742\n",
       "8.0     0.000380\n",
       "9.0     0.000238\n",
       "10.0    0.000139\n",
       "11.0    0.000088\n",
       "12.0    0.000082\n",
       "13.0    0.000054\n",
       "14.0    0.000017\n",
       "15.0    0.000015\n",
       "18.0    0.000013\n",
       "16.0    0.000011\n",
       "17.0    0.000006\n",
       "19.0    0.000006\n",
       "21.0    0.000004\n",
       "22.0    0.000004\n",
       "29.0    0.000002\n",
       "24.0    0.000002\n",
       "Name: delinq_2yrs, dtype: float64"
      ]
     },
     "execution_count": 45,
     "metadata": {},
     "output_type": "execute_result"
    }
   ],
   "source": [
    "loan_dat['delinq_2yrs'].value_counts(normalize=True)"
   ]
  },
  {
   "cell_type": "code",
   "execution_count": 46,
   "id": "47ee977c",
   "metadata": {},
   "outputs": [
    {
     "name": "stdout",
     "output_type": "stream",
     "text": [
      "the mode is : 0.0\n",
      "after treating the null values are: <bound method NDFrame._add_numeric_operations.<locals>.sum of 0         False\n",
      "1         False\n",
      "2         False\n",
      "3         False\n",
      "4         False\n",
      "          ...  \n",
      "466280    False\n",
      "466281    False\n",
      "466282    False\n",
      "466283    False\n",
      "466284    False\n",
      "Name: delinq_2yrs, Length: 466285, dtype: bool>\n"
     ]
    }
   ],
   "source": [
    "mode = loan_dat['delinq_2yrs'].mode()[0]\n",
    "print('the mode is :',mode)\n",
    "loan_dat['delinq_2yrs'] = loan_dat['delinq_2yrs'].fillna(mode)\n",
    "print('after treating the null values are:',loan_dat['delinq_2yrs'].isna().sum)"
   ]
  },
  {
   "cell_type": "code",
   "execution_count": 47,
   "id": "c12f293d",
   "metadata": {},
   "outputs": [
    {
     "data": {
      "text/plain": [
       "loan_amnt                      0\n",
       "funded_amnt                    0\n",
       "funded_amnt_inv                0\n",
       "term                           0\n",
       "int_rate                       0\n",
       "installment                    0\n",
       "grade                          0\n",
       "emp_length                     0\n",
       "home_ownership                 0\n",
       "annual_inc                     0\n",
       "verification_status            0\n",
       "issue_d                        0\n",
       "loan_status                    0\n",
       "pymnt_plan                     0\n",
       "purpose                        0\n",
       "dti                            0\n",
       "delinq_2yrs                    0\n",
       "earliest_cr_line               0\n",
       "inq_last_6mths                 0\n",
       "mths_since_last_delinq         0\n",
       "open_acc                       0\n",
       "pub_rec                        0\n",
       "revol_bal                      0\n",
       "revol_util                     0\n",
       "total_acc                      0\n",
       "initial_list_status            0\n",
       "out_prncp                      0\n",
       "out_prncp_inv                  0\n",
       "total_pymnt                    0\n",
       "total_pymnt_inv                0\n",
       "total_rec_int                  0\n",
       "last_pymnt_d                   0\n",
       "last_pymnt_amnt                0\n",
       "last_credit_pull_d             0\n",
       "collections_12_mths_ex_med     0\n",
       "mths_since_last_major_derog    0\n",
       "policy_code                    0\n",
       "application_type               0\n",
       "acc_now_delinq                 0\n",
       "tot_coll_amt                   0\n",
       "tot_cur_bal                    0\n",
       "total_rev_hi_lim               0\n",
       "dtype: int64"
      ]
     },
     "execution_count": 47,
     "metadata": {},
     "output_type": "execute_result"
    }
   ],
   "source": [
    "loan_dat.isna().sum()"
   ]
  },
  {
   "cell_type": "markdown",
   "id": "a3d7767b",
   "metadata": {},
   "source": [
    "### Outliers"
   ]
  },
  {
   "cell_type": "code",
   "execution_count": 48,
   "id": "d65f5e38",
   "metadata": {},
   "outputs": [
    {
     "data": {
      "text/plain": [
       "<AxesSubplot:>"
      ]
     },
     "execution_count": 48,
     "metadata": {},
     "output_type": "execute_result"
    },
    {
     "data": {
      "image/png": "[encoded data removed]",
      "text/plain": [
       "<Figure size 720x432 with 1 Axes>"
      ]
     },
     "metadata": {
      "needs_background": "light"
     },
     "output_type": "display_data"
    }
   ],
   "source": [
    "loan_dat[['int_rate','installment', 'annual_inc']].boxplot(figsize=(10,6))"
   ]
  },
  {
   "cell_type": "code",
   "execution_count": 49,
   "id": "aa5b1ad9",
   "metadata": {},
   "outputs": [
    {
     "data": {
      "text/plain": [
       "<AxesSubplot:xlabel='int_rate'>"
      ]
     },
     "execution_count": 49,
     "metadata": {},
     "output_type": "execute_result"
    },
    {
     "data": {
      "image/png": "[encoded data removed]",
      "text/plain": [
       "<Figure size 432x288 with 1 Axes>"
      ]
     },
     "metadata": {
      "needs_background": "light"
     },
     "output_type": "display_data"
    }
   ],
   "source": [
    "sns.boxplot('int_rate',data=loan_dat)"
   ]
  },
  {
   "cell_type": "code",
   "execution_count": 50,
   "id": "9af2b3f9",
   "metadata": {},
   "outputs": [
    {
     "data": {
      "text/plain": [
       "<AxesSubplot:xlabel='installment'>"
      ]
     },
     "execution_count": 50,
     "metadata": {},
     "output_type": "execute_result"
    },
    {
     "data": {
      "image/png": "[encoded data removed]",
      "text/plain": [
       "<Figure size 432x288 with 1 Axes>"
      ]
     },
     "metadata": {
      "needs_background": "light"
     },
     "output_type": "display_data"
    }
   ],
   "source": [
    "sns.boxplot('installment',data=loan_dat)"
   ]
  },
  {
   "cell_type": "code",
   "execution_count": 51,
   "id": "f17f95f5",
   "metadata": {},
   "outputs": [
    {
     "data": {
      "text/plain": [
       "<AxesSubplot:xlabel='annual_inc'>"
      ]
     },
     "execution_count": 51,
     "metadata": {},
     "output_type": "execute_result"
    },
    {
     "data": {
      "image/png": "[encoded data removed]",
      "text/plain": [
       "<Figure size 432x288 with 1 Axes>"
      ]
     },
     "metadata": {
      "needs_background": "light"
     },
     "output_type": "display_data"
    }
   ],
   "source": [
    "sns.boxplot('annual_inc',data=loan_dat)"
   ]
  },
  {
   "cell_type": "code",
   "execution_count": null,
   "id": "b232bb93",
   "metadata": {},
   "outputs": [],
   "source": []
  },
  {
   "cell_type": "code",
   "execution_count": 52,
   "id": "a0125a85",
   "metadata": {},
   "outputs": [
    {
     "data": {
      "text/plain": [
       "<AxesSubplot:>"
      ]
     },
     "execution_count": 52,
     "metadata": {},
     "output_type": "execute_result"
    },
    {
     "data": {
      "image/png": "[encoded data removed]",
      "text/plain": [
       "<Figure size 720x432 with 1 Axes>"
      ]
     },
     "metadata": {
      "needs_background": "light"
     },
     "output_type": "display_data"
    }
   ],
   "source": [
    "loan_dat[['open_acc','revol_bal','mths_since_last_delinq']].boxplot(figsize=(10,6))"
   ]
  },
  {
   "cell_type": "code",
   "execution_count": 53,
   "id": "25114958",
   "metadata": {},
   "outputs": [
    {
     "data": {
      "text/plain": [
       "<AxesSubplot:xlabel='revol_bal'>"
      ]
     },
     "execution_count": 53,
     "metadata": {},
     "output_type": "execute_result"
    },
    {
     "data": {
      "image/png": "[encoded data removed]",
      "text/plain": [
       "<Figure size 432x288 with 1 Axes>"
      ]
     },
     "metadata": {
      "needs_background": "light"
     },
     "output_type": "display_data"
    }
   ],
   "source": [
    "sns.boxplot('revol_bal',data=loan_dat)"
   ]
  },
  {
   "cell_type": "code",
   "execution_count": 54,
   "id": "ac530292",
   "metadata": {},
   "outputs": [
    {
     "data": {
      "text/plain": [
       "<AxesSubplot:xlabel='term', ylabel='count'>"
      ]
     },
     "execution_count": 54,
     "metadata": {},
     "output_type": "execute_result"
    },
    {
     "data": {
      "image/png": "[encoded data removed]",
      "text/plain": [
       "<Figure size 432x288 with 1 Axes>"
      ]
     },
     "metadata": {
      "needs_background": "light"
     },
     "output_type": "display_data"
    }
   ],
   "source": [
    "sns.countplot(loan_dat['term'])"
   ]
  },
  {
   "cell_type": "code",
   "execution_count": 55,
   "id": "c5e1bb01",
   "metadata": {},
   "outputs": [
    {
     "data": {
      "image/png": "[encoded data removed]",
      "text/plain": [
       "<Figure size 1440x288 with 1 Axes>"
      ]
     },
     "metadata": {},
     "output_type": "display_data"
    },
    {
     "data": {
      "image/png": "[encoded data removed]",
      "text/plain": [
       "<Figure size 1440x288 with 1 Axes>"
      ]
     },
     "metadata": {},
     "output_type": "display_data"
    },
    {
     "data": {
      "image/png": "[encoded data removed]",
      "text/plain": [
       "<Figure size 1440x288 with 1 Axes>"
      ]
     },
     "metadata": {},
     "output_type": "display_data"
    },
    {
     "data": {
      "image/png": "[encoded data removed]",
      "text/plain": [
       "<Figure size 1440x288 with 1 Axes>"
      ]
     },
     "metadata": {},
     "output_type": "display_data"
    }
   ],
   "source": [
    "# plotting histogram for each numerical variable\n",
    "plt.style.use(\"ggplot\")\n",
    "for column in ['grade','home_ownership','verification_status',\n",
    " 'pymnt_plan']:\n",
    " plt.figure(figsize=(20,4))\n",
    " plt.subplot(121)\n",
    " sns.countplot(loan_dat[column])\n",
    " plt.title(column)\n"
   ]
  },
  {
   "cell_type": "code",
   "execution_count": 56,
   "id": "ec813688",
   "metadata": {},
   "outputs": [
    {
     "data": {
      "image/png": "[encoded data removed]",
      "text/plain": [
       "<Figure size 1440x288 with 1 Axes>"
      ]
     },
     "metadata": {},
     "output_type": "display_data"
    },
    {
     "data": {
      "image/png": "[encoded data removed]",
      "text/plain": [
       "<Figure size 1440x288 with 1 Axes>"
      ]
     },
     "metadata": {},
     "output_type": "display_data"
    },
    {
     "data": {
      "image/png": "[encoded data removed]",
      "text/plain": [
       "<Figure size 1440x288 with 1 Axes>"
      ]
     },
     "metadata": {},
     "output_type": "display_data"
    },
    {
     "data": {
      "image/png": "[encoded data removed]",
      "text/plain": [
       "<Figure size 1440x288 with 1 Axes>"
      ]
     },
     "metadata": {},
     "output_type": "display_data"
    }
   ],
   "source": [
    "# plotting histogram for each numerical variable\n",
    "plt.style.use(\"ggplot\")\n",
    "for column in ['loan_amnt', 'funded_amnt', 'funded_amnt_inv', 'int_rate'] :\n",
    " plt.figure(figsize=(20,4))\n",
    " plt.subplot(121)\n",
    " sns.distplot(loan_dat[column], kde=True)\n",
    " plt.title(column)\n"
   ]
  },
  {
   "cell_type": "code",
   "execution_count": 57,
   "id": "228c4efc",
   "metadata": {},
   "outputs": [
    {
     "data": {
      "image/png": "[encoded data removed]",
      "text/plain": [
       "<Figure size 1440x288 with 1 Axes>"
      ]
     },
     "metadata": {},
     "output_type": "display_data"
    },
    {
     "data": {
      "image/png": "[encoded data removed]",
      "text/plain": [
       "<Figure size 1440x288 with 1 Axes>"
      ]
     },
     "metadata": {},
     "output_type": "display_data"
    },
    {
     "data": {
      "image/png": "[encoded data removed]",
      "text/plain": [
       "<Figure size 1440x288 with 1 Axes>"
      ]
     },
     "metadata": {},
     "output_type": "display_data"
    },
    {
     "data": {
      "image/png": "[encoded data removed]",
      "text/plain": [
       "<Figure size 1440x288 with 1 Axes>"
      ]
     },
     "metadata": {},
     "output_type": "display_data"
    },
    {
     "data": {
      "image/png": "[encoded data removed]",
      "text/plain": [
       "<Figure size 1440x288 with 1 Axes>"
      ]
     },
     "metadata": {},
     "output_type": "display_data"
    }
   ],
   "source": [
    "# plotting histogram for each numerical variable\n",
    "plt.style.use(\"ggplot\")\n",
    "for column in ['installment', 'annual_inc', 'dti', 'delinq_2yrs', 'inq_last_6mths'] :\n",
    " plt.figure(figsize=(20,4))\n",
    " plt.subplot(121)\n",
    " sns.distplot(loan_dat[column], kde=True)\n",
    " plt.title(column)"
   ]
  },
  {
   "cell_type": "markdown",
   "id": "4d7fcdd2",
   "metadata": {},
   "source": [
    "\n",
    "#### int_rate"
   ]
  },
  {
   "cell_type": "code",
   "execution_count": 58,
   "id": "7fb9e8f0",
   "metadata": {},
   "outputs": [
    {
     "name": "stdout",
     "output_type": "stream",
     "text": [
      "24.739999999999995 2.7400000000000038\n"
     ]
    },
    {
     "data": {
      "text/html": [
       "<div>\n",
       "<style scoped>\n",
       "    .dataframe tbody tr th:only-of-type {\n",
       "        vertical-align: middle;\n",
       "    }\n",
       "\n",
       "    .dataframe tbody tr th {\n",
       "        vertical-align: top;\n",
       "    }\n",
       "\n",
       "    .dataframe thead th {\n",
       "        text-align: right;\n",
       "    }\n",
       "</style>\n",
       "<table border=\"1\" class=\"dataframe\">\n",
       "  <thead>\n",
       "    <tr style=\"text-align: right;\">\n",
       "      <th></th>\n",
       "      <th>loan_amnt</th>\n",
       "      <th>funded_amnt</th>\n",
       "      <th>funded_amnt_inv</th>\n",
       "      <th>term</th>\n",
       "      <th>int_rate</th>\n",
       "      <th>installment</th>\n",
       "      <th>grade</th>\n",
       "      <th>emp_length</th>\n",
       "      <th>home_ownership</th>\n",
       "      <th>annual_inc</th>\n",
       "      <th>...</th>\n",
       "      <th>last_pymnt_amnt</th>\n",
       "      <th>last_credit_pull_d</th>\n",
       "      <th>collections_12_mths_ex_med</th>\n",
       "      <th>mths_since_last_major_derog</th>\n",
       "      <th>policy_code</th>\n",
       "      <th>application_type</th>\n",
       "      <th>acc_now_delinq</th>\n",
       "      <th>tot_coll_amt</th>\n",
       "      <th>tot_cur_bal</th>\n",
       "      <th>total_rev_hi_lim</th>\n",
       "    </tr>\n",
       "  </thead>\n",
       "  <tbody>\n",
       "    <tr>\n",
       "      <th>42655</th>\n",
       "      <td>19425</td>\n",
       "      <td>19425</td>\n",
       "      <td>19425.0</td>\n",
       "      <td>60 months</td>\n",
       "      <td>25.89</td>\n",
       "      <td>580.33</td>\n",
       "      <td>G</td>\n",
       "      <td>5 years</td>\n",
       "      <td>RENT</td>\n",
       "      <td>55000.0</td>\n",
       "      <td>...</td>\n",
       "      <td>580.33</td>\n",
       "      <td>Dec-15</td>\n",
       "      <td>0.0</td>\n",
       "      <td>71.0</td>\n",
       "      <td>1</td>\n",
       "      <td>INDIVIDUAL</td>\n",
       "      <td>0.0</td>\n",
       "      <td>80.0</td>\n",
       "      <td>38879.0</td>\n",
       "      <td>19800.0</td>\n",
       "    </tr>\n",
       "  </tbody>\n",
       "</table>\n",
       "<p>1 rows × 42 columns</p>\n",
       "</div>"
      ],
      "text/plain": [
       "       loan_amnt  funded_amnt  funded_amnt_inv        term  int_rate  \\\n",
       "42655      19425        19425          19425.0   60 months     25.89   \n",
       "\n",
       "       installment grade emp_length home_ownership  annual_inc  ...  \\\n",
       "42655       580.33     G    5 years           RENT     55000.0  ...   \n",
       "\n",
       "      last_pymnt_amnt last_credit_pull_d collections_12_mths_ex_med  \\\n",
       "42655          580.33             Dec-15                        0.0   \n",
       "\n",
       "      mths_since_last_major_derog policy_code  application_type  \\\n",
       "42655                        71.0           1        INDIVIDUAL   \n",
       "\n",
       "       acc_now_delinq tot_coll_amt  tot_cur_bal  total_rev_hi_lim  \n",
       "42655             0.0         80.0      38879.0           19800.0  \n",
       "\n",
       "[1 rows x 42 columns]"
      ]
     },
     "execution_count": 58,
     "metadata": {},
     "output_type": "execute_result"
    }
   ],
   "source": [
    "q1 = np.quantile(loan_dat[\"int_rate\"],0.25)\n",
    "q2 = np.quantile(loan_dat[\"int_rate\"],0.50)\n",
    "q3 = np.quantile(loan_dat[\"int_rate\"],0.75)\n",
    "\n",
    "iqr = q3 - q1\n",
    "upper_tail = q3 + 1.5 * iqr \n",
    "lower_tail = q1 - 1.5 * iqr\n",
    "print(upper_tail,lower_tail)\n",
    "loan_dat.loc[(df[\"int_rate\"] < lower_tail) | (loan_dat[\"int_rate\"] > upper_tail)].head(1)  # outliers detected in int_rate column"
   ]
  },
  {
   "cell_type": "code",
   "execution_count": 59,
   "id": "8ee39b18",
   "metadata": {},
   "outputs": [
    {
     "data": {
      "text/plain": [
       "<AxesSubplot:xlabel='int_rate'>"
      ]
     },
     "execution_count": 59,
     "metadata": {},
     "output_type": "execute_result"
    },
    {
     "data": {
      "image/png": "[encoded data removed]",
      "text/plain": [
       "<Figure size 432x288 with 1 Axes>"
      ]
     },
     "metadata": {},
     "output_type": "display_data"
    }
   ],
   "source": [
    "sns.boxplot('int_rate',data=loan_dat)"
   ]
  },
  {
   "cell_type": "code",
   "execution_count": 60,
   "id": "ca738b8d",
   "metadata": {},
   "outputs": [
    {
     "data": {
      "text/plain": [
       "13.705260901572764"
      ]
     },
     "execution_count": 60,
     "metadata": {},
     "output_type": "execute_result"
    }
   ],
   "source": [
    "mean = loan_dat.loc[(loan_dat[\"int_rate\"] > lower_tail) & (loan_dat[\"int_rate\"] < upper_tail),\"int_rate\"].mean()\n",
    "mean"
   ]
  },
  {
   "cell_type": "code",
   "execution_count": 61,
   "id": "e5c635e5",
   "metadata": {},
   "outputs": [],
   "source": [
    "loan_dat[\"int_rate\"] = np.where(loan_dat[\"int_rate\"] >upper_tail,mean,loan_dat[\"int_rate\"])"
   ]
  },
  {
   "cell_type": "code",
   "execution_count": 62,
   "id": "9e861ab5",
   "metadata": {},
   "outputs": [
    {
     "data": {
      "text/plain": [
       "<AxesSubplot:>"
      ]
     },
     "execution_count": 62,
     "metadata": {},
     "output_type": "execute_result"
    },
    {
     "data": {
      "image/png": "[encoded data removed]",
      "text/plain": [
       "<Figure size 432x288 with 1 Axes>"
      ]
     },
     "metadata": {},
     "output_type": "display_data"
    }
   ],
   "source": [
    "df[[\"int_rate\"]].boxplot()"
   ]
  },
  {
   "cell_type": "code",
   "execution_count": 63,
   "id": "5c8d3e24",
   "metadata": {},
   "outputs": [
    {
     "data": {
      "text/plain": [
       "<AxesSubplot:xlabel='int_rate'>"
      ]
     },
     "execution_count": 63,
     "metadata": {},
     "output_type": "execute_result"
    },
    {
     "data": {
      "image/png": "[encoded data removed]",
      "text/plain": [
       "<Figure size 432x288 with 1 Axes>"
      ]
     },
     "metadata": {},
     "output_type": "display_data"
    }
   ],
   "source": [
    "sns.boxplot('int_rate',data=loan_dat)"
   ]
  },
  {
   "cell_type": "code",
   "execution_count": null,
   "id": "c1e24d16",
   "metadata": {},
   "outputs": [],
   "source": []
  },
  {
   "cell_type": "code",
   "execution_count": null,
   "id": "4388793b",
   "metadata": {},
   "outputs": [],
   "source": []
  },
  {
   "cell_type": "markdown",
   "id": "d02c0b71",
   "metadata": {},
   "source": [
    "#### installment"
   ]
  },
  {
   "cell_type": "code",
   "execution_count": 64,
   "id": "d027af36",
   "metadata": {},
   "outputs": [
    {
     "name": "stdout",
     "output_type": "stream",
     "text": [
      "1031.415 -208.14500000000004\n"
     ]
    },
    {
     "data": {
      "text/html": [
       "<div>\n",
       "<style scoped>\n",
       "    .dataframe tbody tr th:only-of-type {\n",
       "        vertical-align: middle;\n",
       "    }\n",
       "\n",
       "    .dataframe tbody tr th {\n",
       "        vertical-align: top;\n",
       "    }\n",
       "\n",
       "    .dataframe thead th {\n",
       "        text-align: right;\n",
       "    }\n",
       "</style>\n",
       "<table border=\"1\" class=\"dataframe\">\n",
       "  <thead>\n",
       "    <tr style=\"text-align: right;\">\n",
       "      <th></th>\n",
       "      <th>loan_amnt</th>\n",
       "      <th>funded_amnt</th>\n",
       "      <th>funded_amnt_inv</th>\n",
       "      <th>term</th>\n",
       "      <th>int_rate</th>\n",
       "      <th>installment</th>\n",
       "      <th>grade</th>\n",
       "      <th>emp_length</th>\n",
       "      <th>home_ownership</th>\n",
       "      <th>annual_inc</th>\n",
       "      <th>...</th>\n",
       "      <th>last_pymnt_amnt</th>\n",
       "      <th>last_credit_pull_d</th>\n",
       "      <th>collections_12_mths_ex_med</th>\n",
       "      <th>mths_since_last_major_derog</th>\n",
       "      <th>policy_code</th>\n",
       "      <th>application_type</th>\n",
       "      <th>acc_now_delinq</th>\n",
       "      <th>tot_coll_amt</th>\n",
       "      <th>tot_cur_bal</th>\n",
       "      <th>total_rev_hi_lim</th>\n",
       "    </tr>\n",
       "  </thead>\n",
       "  <tbody>\n",
       "    <tr>\n",
       "      <th>128</th>\n",
       "      <td>35000</td>\n",
       "      <td>35000</td>\n",
       "      <td>35000.0</td>\n",
       "      <td>36 months</td>\n",
       "      <td>8.9</td>\n",
       "      <td>1111.37</td>\n",
       "      <td>A</td>\n",
       "      <td>6 years</td>\n",
       "      <td>MORTGAGE</td>\n",
       "      <td>125000.0</td>\n",
       "      <td>...</td>\n",
       "      <td>1123.85</td>\n",
       "      <td>Dec-14</td>\n",
       "      <td>0.0</td>\n",
       "      <td>45.0</td>\n",
       "      <td>1</td>\n",
       "      <td>INDIVIDUAL</td>\n",
       "      <td>0.0</td>\n",
       "      <td>0.0</td>\n",
       "      <td>0.0</td>\n",
       "      <td>15000.0</td>\n",
       "    </tr>\n",
       "  </tbody>\n",
       "</table>\n",
       "<p>1 rows × 42 columns</p>\n",
       "</div>"
      ],
      "text/plain": [
       "     loan_amnt  funded_amnt  funded_amnt_inv        term  int_rate  \\\n",
       "128      35000        35000          35000.0   36 months       8.9   \n",
       "\n",
       "     installment grade emp_length home_ownership  annual_inc  ...  \\\n",
       "128      1111.37     A    6 years       MORTGAGE    125000.0  ...   \n",
       "\n",
       "    last_pymnt_amnt last_credit_pull_d collections_12_mths_ex_med  \\\n",
       "128         1123.85             Dec-14                        0.0   \n",
       "\n",
       "    mths_since_last_major_derog policy_code  application_type  acc_now_delinq  \\\n",
       "128                        45.0           1        INDIVIDUAL             0.0   \n",
       "\n",
       "    tot_coll_amt  tot_cur_bal  total_rev_hi_lim  \n",
       "128          0.0          0.0           15000.0  \n",
       "\n",
       "[1 rows x 42 columns]"
      ]
     },
     "execution_count": 64,
     "metadata": {},
     "output_type": "execute_result"
    }
   ],
   "source": [
    "q1 = np.quantile(loan_dat[\"installment\"],0.25)\n",
    "q2 = np.quantile(loan_dat[\"installment\"],0.50)\n",
    "q3 = np.quantile(loan_dat[\"installment\"],0.75)\n",
    "\n",
    "iqr = q3 - q1\n",
    "upper_tail = q3 + 1.5 * iqr \n",
    "lower_tail = q1 - 1.5 * iqr\n",
    "print(upper_tail,lower_tail)\n",
    "loan_dat.loc[(loan_dat[\"installment\"] < lower_tail) | (loan_dat[\"installment\"] > upper_tail)].head(1)  # outliers detected in int_rate column"
   ]
  },
  {
   "cell_type": "code",
   "execution_count": 65,
   "id": "97e3e57c",
   "metadata": {},
   "outputs": [
    {
     "data": {
      "text/plain": [
       "<AxesSubplot:xlabel='installment'>"
      ]
     },
     "execution_count": 65,
     "metadata": {},
     "output_type": "execute_result"
    },
    {
     "data": {
      "image/png": "[encoded data removed]",
      "text/plain": [
       "<Figure size 432x288 with 1 Axes>"
      ]
     },
     "metadata": {},
     "output_type": "display_data"
    }
   ],
   "source": [
    "sns.boxplot('installment',data=loan_dat)"
   ]
  },
  {
   "cell_type": "code",
   "execution_count": 66,
   "id": "f2241b3e",
   "metadata": {},
   "outputs": [
    {
     "data": {
      "text/plain": [
       "413.2036921380958"
      ]
     },
     "execution_count": 66,
     "metadata": {},
     "output_type": "execute_result"
    }
   ],
   "source": [
    "mean = loan_dat.loc[(loan_dat[\"installment\"] > lower_tail) & (loan_dat[\"installment\"] < upper_tail),\"installment\"].mean()\n",
    "mean"
   ]
  },
  {
   "cell_type": "code",
   "execution_count": 67,
   "id": "5d05bbe7",
   "metadata": {},
   "outputs": [],
   "source": [
    "loan_dat[\"installment\"] = np.where(loan_dat[\"installment\"] >upper_tail,mean,loan_dat[\"installment\"])"
   ]
  },
  {
   "cell_type": "code",
   "execution_count": 68,
   "id": "e22881f4",
   "metadata": {},
   "outputs": [
    {
     "data": {
      "text/plain": [
       "<AxesSubplot:xlabel='installment'>"
      ]
     },
     "execution_count": 68,
     "metadata": {},
     "output_type": "execute_result"
    },
    {
     "data": {
      "image/png": "[encoded data removed]",
      "text/plain": [
       "<Figure size 432x288 with 1 Axes>"
      ]
     },
     "metadata": {},
     "output_type": "display_data"
    }
   ],
   "source": [
    "sns.boxplot('installment',data=loan_dat)"
   ]
  },
  {
   "cell_type": "markdown",
   "id": "7440974f",
   "metadata": {},
   "source": [
    "#### annual_inc"
   ]
  },
  {
   "cell_type": "code",
   "execution_count": 69,
   "id": "bc33c077",
   "metadata": {},
   "outputs": [
    {
     "data": {
      "text/plain": [
       "<AxesSubplot:xlabel='annual_inc'>"
      ]
     },
     "execution_count": 69,
     "metadata": {},
     "output_type": "execute_result"
    },
    {
     "data": {
      "image/png": "[encoded data removed]",
      "text/plain": [
       "<Figure size 432x288 with 1 Axes>"
      ]
     },
     "metadata": {},
     "output_type": "display_data"
    }
   ],
   "source": [
    "sns.boxplot('annual_inc',data=df)"
   ]
  },
  {
   "cell_type": "code",
   "execution_count": 70,
   "id": "ebbfffa6",
   "metadata": {},
   "outputs": [
    {
     "name": "stdout",
     "output_type": "stream",
     "text": [
      "154882.5 -20929.5\n"
     ]
    },
    {
     "data": {
      "text/html": [
       "<div>\n",
       "<style scoped>\n",
       "    .dataframe tbody tr th:only-of-type {\n",
       "        vertical-align: middle;\n",
       "    }\n",
       "\n",
       "    .dataframe tbody tr th {\n",
       "        vertical-align: top;\n",
       "    }\n",
       "\n",
       "    .dataframe thead th {\n",
       "        text-align: right;\n",
       "    }\n",
       "</style>\n",
       "<table border=\"1\" class=\"dataframe\">\n",
       "  <thead>\n",
       "    <tr style=\"text-align: right;\">\n",
       "      <th></th>\n",
       "      <th>loan_amnt</th>\n",
       "      <th>funded_amnt</th>\n",
       "      <th>funded_amnt_inv</th>\n",
       "      <th>term</th>\n",
       "      <th>int_rate</th>\n",
       "      <th>installment</th>\n",
       "      <th>grade</th>\n",
       "      <th>emp_length</th>\n",
       "      <th>home_ownership</th>\n",
       "      <th>annual_inc</th>\n",
       "      <th>...</th>\n",
       "      <th>last_pymnt_amnt</th>\n",
       "      <th>last_credit_pull_d</th>\n",
       "      <th>collections_12_mths_ex_med</th>\n",
       "      <th>mths_since_last_major_derog</th>\n",
       "      <th>policy_code</th>\n",
       "      <th>application_type</th>\n",
       "      <th>acc_now_delinq</th>\n",
       "      <th>tot_coll_amt</th>\n",
       "      <th>tot_cur_bal</th>\n",
       "      <th>total_rev_hi_lim</th>\n",
       "    </tr>\n",
       "  </thead>\n",
       "  <tbody>\n",
       "    <tr>\n",
       "      <th>170</th>\n",
       "      <td>25000</td>\n",
       "      <td>25000</td>\n",
       "      <td>25000.0</td>\n",
       "      <td>36 months</td>\n",
       "      <td>12.42</td>\n",
       "      <td>835.39</td>\n",
       "      <td>B</td>\n",
       "      <td>2 years</td>\n",
       "      <td>RENT</td>\n",
       "      <td>225000.0</td>\n",
       "      <td>...</td>\n",
       "      <td>842.08</td>\n",
       "      <td>Dec-14</td>\n",
       "      <td>0.0</td>\n",
       "      <td>45.0</td>\n",
       "      <td>1</td>\n",
       "      <td>INDIVIDUAL</td>\n",
       "      <td>0.0</td>\n",
       "      <td>0.0</td>\n",
       "      <td>0.0</td>\n",
       "      <td>15000.0</td>\n",
       "    </tr>\n",
       "  </tbody>\n",
       "</table>\n",
       "<p>1 rows × 42 columns</p>\n",
       "</div>"
      ],
      "text/plain": [
       "     loan_amnt  funded_amnt  funded_amnt_inv        term  int_rate  \\\n",
       "170      25000        25000          25000.0   36 months     12.42   \n",
       "\n",
       "     installment grade emp_length home_ownership  annual_inc  ...  \\\n",
       "170       835.39     B    2 years           RENT    225000.0  ...   \n",
       "\n",
       "    last_pymnt_amnt last_credit_pull_d collections_12_mths_ex_med  \\\n",
       "170          842.08             Dec-14                        0.0   \n",
       "\n",
       "    mths_since_last_major_derog policy_code  application_type  acc_now_delinq  \\\n",
       "170                        45.0           1        INDIVIDUAL             0.0   \n",
       "\n",
       "    tot_coll_amt  tot_cur_bal  total_rev_hi_lim  \n",
       "170          0.0          0.0           15000.0  \n",
       "\n",
       "[1 rows x 42 columns]"
      ]
     },
     "execution_count": 70,
     "metadata": {},
     "output_type": "execute_result"
    }
   ],
   "source": [
    "q1 = np.quantile(loan_dat[\"annual_inc\"],0.25)\n",
    "q2 = np.quantile(loan_dat[\"annual_inc\"],0.50)\n",
    "q3 = np.quantile(loan_dat[\"annual_inc\"],0.75)\n",
    "\n",
    "iqr = q3 - q1\n",
    "upper_tail = q3 + 1.5 * iqr \n",
    "lower_tail = q1 - 1.5 * iqr\n",
    "print(upper_tail,lower_tail)\n",
    "loan_dat.loc[(loan_dat[\"annual_inc\"] < lower_tail) | (loan_dat[\"annual_inc\"] > upper_tail)].head(1)  # outliers detected in int_rate column"
   ]
  },
  {
   "cell_type": "code",
   "execution_count": 71,
   "id": "5a3470de",
   "metadata": {},
   "outputs": [
    {
     "data": {
      "text/plain": [
       "66434.52924999868"
      ]
     },
     "execution_count": 71,
     "metadata": {},
     "output_type": "execute_result"
    }
   ],
   "source": [
    "mean = loan_dat.loc[(loan_dat[\"annual_inc\"] > lower_tail) & (loan_dat[\"annual_inc\"] < upper_tail),\"annual_inc\"].mean()\n",
    "mean"
   ]
  },
  {
   "cell_type": "code",
   "execution_count": 72,
   "id": "44420377",
   "metadata": {},
   "outputs": [],
   "source": [
    "loan_dat[\"annual_inc\"] = np.where(loan_dat[\"annual_inc\"] >upper_tail,mean,loan_dat[\"annual_inc\"])"
   ]
  },
  {
   "cell_type": "code",
   "execution_count": 73,
   "id": "71960eb8",
   "metadata": {},
   "outputs": [
    {
     "data": {
      "text/plain": [
       "<AxesSubplot:xlabel='annual_inc'>"
      ]
     },
     "execution_count": 73,
     "metadata": {},
     "output_type": "execute_result"
    },
    {
     "data": {
      "image/png": "[encoded data removed]",
      "text/plain": [
       "<Figure size 432x288 with 1 Axes>"
      ]
     },
     "metadata": {},
     "output_type": "display_data"
    }
   ],
   "source": [
    "sns.boxplot('annual_inc',data=loan_dat)"
   ]
  },
  {
   "cell_type": "markdown",
   "id": "8c41be98",
   "metadata": {},
   "source": [
    "### Normalizind Data"
   ]
  },
  {
   "cell_type": "code",
   "execution_count": 74,
   "id": "efd63fc6",
   "metadata": {},
   "outputs": [
    {
     "ename": "NameError",
     "evalue": "name 'StanderScaler' is not defined",
     "output_type": "error",
     "traceback": [
      "\u001b[1;31m---------------------------------------------------------------------------\u001b[0m",
      "\u001b[1;31mNameError\u001b[0m                                 Traceback (most recent call last)",
      "\u001b[1;32m~\\AppData\\Local\\Temp/ipykernel_10940/4142557913.py\u001b[0m in \u001b[0;36m<module>\u001b[1;34m\u001b[0m\n\u001b[1;32m----> 1\u001b[1;33m \u001b[0mscaler\u001b[0m \u001b[1;33m=\u001b[0m \u001b[0mStanderScaler\u001b[0m\u001b[1;33m(\u001b[0m\u001b[1;33m)\u001b[0m\u001b[1;33m\u001b[0m\u001b[1;33m\u001b[0m\u001b[0m\n\u001b[0m\u001b[0;32m      2\u001b[0m \u001b[1;33m\u001b[0m\u001b[0m\n\u001b[0;32m      3\u001b[0m \u001b[0mnor_data\u001b[0m \u001b[1;33m=\u001b[0m \u001b[0mscaler\u001b[0m\u001b[1;33m.\u001b[0m\u001b[0mfit_transform\u001b[0m\u001b[1;33m(\u001b[0m\u001b[0mloan_dat\u001b[0m\u001b[1;33m)\u001b[0m\u001b[1;33m\u001b[0m\u001b[1;33m\u001b[0m\u001b[0m\n",
      "\u001b[1;31mNameError\u001b[0m: name 'StanderScaler' is not defined"
     ]
    }
   ],
   "source": [
    "scaler = StanderScaler()\n",
    "\n",
    "nor_data = scaler.fit_transform(loan_dat)"
   ]
  },
  {
   "cell_type": "markdown",
   "id": "77e2eea8",
   "metadata": {},
   "source": [
    "### Analysing the Target Variable"
   ]
  },
  {
   "cell_type": "code",
   "execution_count": 75,
   "id": "14fbe681",
   "metadata": {},
   "outputs": [
    {
     "data": {
      "text/plain": [
       "Current                                                0.480878\n",
       "Fully Paid                                             0.396193\n",
       "Charged Off                                            0.091092\n",
       "Late (31-120 days)                                     0.014798\n",
       "In Grace Period                                        0.006747\n",
       "Does not meet the credit policy. Status:Fully Paid     0.004263\n",
       "Late (16-30 days)                                      0.002612\n",
       "Default                                                0.001784\n",
       "Does not meet the credit policy. Status:Charged Off    0.001632\n",
       "Name: loan_status, dtype: float64"
      ]
     },
     "execution_count": 75,
     "metadata": {},
     "output_type": "execute_result"
    }
   ],
   "source": [
    "loan_dat['loan_status'].value_counts(normalize=True)\n"
   ]
  },
  {
   "cell_type": "code",
   "execution_count": 76,
   "id": "94d1b789",
   "metadata": {},
   "outputs": [],
   "source": [
    "# creatin a new binary target variable\n",
    "loan_dat['good_bad']=np.where(loan_dat['loan_status'].isin(['Charged Off','Late (31-120 days)','In Grace Period','Does not meet the credit policy. Status:Fully Paid', \n",
    " 'Late (16-30 days)','Default','Does not meet the credit policy. Status:Charged Off']),0,1)"
   ]
  },
  {
   "cell_type": "code",
   "execution_count": 77,
   "id": "93d642c6",
   "metadata": {},
   "outputs": [],
   "source": [
    "#dropping the 'loan_status' variable\n",
    "loan_dat.drop('loan_status',axis=1,inplace=True)"
   ]
  },
  {
   "cell_type": "code",
   "execution_count": 78,
   "id": "fe5dbcb0",
   "metadata": {},
   "outputs": [
    {
     "data": {
      "text/plain": [
       "1    408965\n",
       "0     57320\n",
       "Name: good_bad, dtype: int64"
      ]
     },
     "execution_count": 78,
     "metadata": {},
     "output_type": "execute_result"
    }
   ],
   "source": [
    "loan_dat['good_bad'].value_counts()"
   ]
  },
  {
   "cell_type": "code",
   "execution_count": 106,
   "id": "96c3de30",
   "metadata": {},
   "outputs": [],
   "source": [
    "loan_dat['emp_length']=df['emp_length']"
   ]
  },
  {
   "cell_type": "markdown",
   "id": "6698f829",
   "metadata": {},
   "source": [
    "### Splitting the data "
   ]
  },
  {
   "cell_type": "code",
   "execution_count": 107,
   "id": "93c1f7c4",
   "metadata": {},
   "outputs": [],
   "source": [
    "x=loan_dat.drop('good_bad',axis=1)\n",
    "y=loan_dat['good_bad']\n",
    "x_train,x_test,y_train,y_test=train_test_split(x,y,test_size=0.2,random_state=42,stratify=y)\n",
    "x_train_1,x_test_1=x_train.copy(),x_test.copy()"
   ]
  },
  {
   "cell_type": "code",
   "execution_count": 111,
   "id": "420dcc42",
   "metadata": {},
   "outputs": [
    {
     "name": "stdout",
     "output_type": "stream",
     "text": [
      "<class 'pandas.core.frame.DataFrame'>\n",
      "Int64Index: 373028 entries, 370960 to 449804\n",
      "Data columns (total 41 columns):\n",
      " #   Column                       Non-Null Count   Dtype  \n",
      "---  ------                       --------------   -----  \n",
      " 0   loan_amnt                    373028 non-null  int64  \n",
      " 1   funded_amnt                  373028 non-null  int64  \n",
      " 2   funded_amnt_inv              373028 non-null  float64\n",
      " 3   term                         373028 non-null  object \n",
      " 4   int_rate                     373028 non-null  float64\n",
      " 5   installment                  373028 non-null  float64\n",
      " 6   grade                        373028 non-null  object \n",
      " 7   emp_length                   356260 non-null  object \n",
      " 8   home_ownership               373028 non-null  object \n",
      " 9   annual_inc                   373028 non-null  float64\n",
      " 10  verification_status          373028 non-null  object \n",
      " 11  issue_d                      373028 non-null  object \n",
      " 12  pymnt_plan                   373028 non-null  object \n",
      " 13  purpose                      373028 non-null  object \n",
      " 14  dti                          373028 non-null  float64\n",
      " 15  delinq_2yrs                  373028 non-null  float64\n",
      " 16  earliest_cr_line             373028 non-null  object \n",
      " 17  inq_last_6mths               373028 non-null  float64\n",
      " 18  mths_since_last_delinq       373028 non-null  float64\n",
      " 19  open_acc                     373028 non-null  float64\n",
      " 20  pub_rec                      373028 non-null  float64\n",
      " 21  revol_bal                    373028 non-null  int64  \n",
      " 22  revol_util                   373028 non-null  float64\n",
      " 23  total_acc                    373028 non-null  float64\n",
      " 24  initial_list_status          373028 non-null  object \n",
      " 25  out_prncp                    373028 non-null  float64\n",
      " 26  out_prncp_inv                373028 non-null  float64\n",
      " 27  total_pymnt                  373028 non-null  float64\n",
      " 28  total_pymnt_inv              373028 non-null  float64\n",
      " 29  total_rec_int                373028 non-null  float64\n",
      " 30  last_pymnt_d                 373028 non-null  object \n",
      " 31  last_pymnt_amnt              373028 non-null  float64\n",
      " 32  last_credit_pull_d           373028 non-null  object \n",
      " 33  collections_12_mths_ex_med   373028 non-null  float64\n",
      " 34  mths_since_last_major_derog  373028 non-null  float64\n",
      " 35  policy_code                  373028 non-null  int64  \n",
      " 36  application_type             373028 non-null  object \n",
      " 37  acc_now_delinq               373028 non-null  float64\n",
      " 38  tot_coll_amt                 373028 non-null  float64\n",
      " 39  tot_cur_bal                  373028 non-null  float64\n",
      " 40  total_rev_hi_lim             373028 non-null  float64\n",
      "dtypes: float64(24), int64(4), object(13)\n",
      "memory usage: 119.5+ MB\n"
     ]
    }
   ],
   "source": [
    "x_train_1.info()"
   ]
  },
  {
   "cell_type": "markdown",
   "id": "fcb33147",
   "metadata": {},
   "source": [
    "### Encoding"
   ]
  },
  {
   "cell_type": "code",
   "execution_count": 102,
   "id": "6693ee03",
   "metadata": {},
   "outputs": [],
   "source": [
    "loan_dat['emp_length']=df['emp_length']"
   ]
  },
  {
   "cell_type": "code",
   "execution_count": 112,
   "id": "df88941b",
   "metadata": {},
   "outputs": [
    {
     "data": {
      "text/plain": [
       "array(['1 year', '< 1 year', '10+ years', '5 years', '3 years', nan,\n",
       "       '9 years', '2 years', '8 years', '4 years', '7 years', '6 years'],\n",
       "      dtype=object)"
      ]
     },
     "execution_count": 112,
     "metadata": {},
     "output_type": "execute_result"
    }
   ],
   "source": [
    "x_train_1['emp_length'].unique()"
   ]
  },
  {
   "cell_type": "code",
   "execution_count": 113,
   "id": "1900d525",
   "metadata": {},
   "outputs": [],
   "source": [
    "mapping_dict={\"10+ years\":10,\"9 years\":9,\"4 years\":4,\"5 years\":5,\"6 years\":6,\"7 years\":7,\"2 years\":2,\"1 year\":1,\"< 1 year\":0.5,\"3 years\":3,\"8 years\":8}\n",
    "\n",
    "x_train_1['emp_length']=loan_dat['emp_length'].map(mapping_dict)"
   ]
  },
  {
   "cell_type": "code",
   "execution_count": 114,
   "id": "cec44958",
   "metadata": {},
   "outputs": [
    {
     "data": {
      "text/plain": [
       "array([ 1. ,  0.5, 10. ,  5. ,  3. ,  9. ,  2. ,  8. ,  4. ,  7. ,  6. ])"
      ]
     },
     "execution_count": 114,
     "metadata": {},
     "output_type": "execute_result"
    }
   ],
   "source": [
    "x_train_1['emp_length'].unique()"
   ]
  },
  {
   "cell_type": "markdown",
   "id": "8daced73",
   "metadata": {},
   "source": [
    "#### term\n"
   ]
  },
  {
   "cell_type": "code",
   "execution_count": 115,
   "id": "47811f41",
   "metadata": {},
   "outputs": [
    {
     "data": {
      "text/plain": [
       "array([60, 36], dtype=int64)"
      ]
     },
     "execution_count": 115,
     "metadata": {},
     "output_type": "execute_result"
    }
   ],
   "source": [
    "def term_converter(df,column):\n",
    " #removing redundant substrings\n",
    " df[column]=df[column].str.replace(' months','')\n",
    " df[column]=df[column].str.replace(' ','')\n",
    " \n",
    " #converting to numeric\n",
    " df[column]=pd.to_numeric(df[column])\n",
    "#calling the function\n",
    "term_converter(x_train_1,'term')\n",
    "#confirming the transformation\n",
    "x_train_1['term'].unique()"
   ]
  },
  {
   "cell_type": "markdown",
   "id": "f7b0f3ac",
   "metadata": {},
   "source": [
    "### dealing with date features"
   ]
  },
  {
   "cell_type": "code",
   "execution_count": 116,
   "id": "b4574357",
   "metadata": {},
   "outputs": [
    {
     "data": {
      "text/plain": [
       "array(['Dec-01', 'Feb-00', 'Jan-99', 'Jun-02', 'Mar-89', 'Mar-96',\n",
       "       'Jul-05', 'Jan-90', 'Sep-09', 'Aug-96', 'Aug-93', 'Dec-95',\n",
       "       'Sep-96', 'Feb-82', 'Jun-09', 'Sep-97', 'Aug-00', 'Jan-00',\n",
       "       'Sep-01', 'Mar-01', 'Apr-98', 'Jul-01', 'Oct-89', 'Jun-98',\n",
       "       'Sep-05', 'Feb-90', 'Apr-01', 'Apr-88', 'Oct-99', 'Nov-91',\n",
       "       'Jan-91', 'Dec-08', 'Sep-06', 'Apr-08', 'Mar-91', 'Aug-06',\n",
       "       'Nov-93', 'Mar-95', 'Dec-06', 'Oct-01', 'Dec-99', 'Sep-00',\n",
       "       'Sep-04', 'Dec-80', 'Sep-02', 'Dec-76', 'Jun-94', 'May-01',\n",
       "       'Oct-05', 'Mar-00', 'Aug-01', 'Dec-90', 'Sep-95', 'May-04',\n",
       "       'Apr-05', 'Dec-96', 'Mar-93', 'Feb-96', 'Nov-97', 'Feb-87',\n",
       "       'Dec-98', 'Jun-82', 'Jun-06', 'Feb-88', 'Sep-98', 'Apr-06',\n",
       "       'Sep-99', 'Feb-93', 'Jan-06', 'Jan-95', 'Oct-00', 'Mar-92',\n",
       "       'Jul-98', 'Jan-88', 'Dec-89', 'Dec-93', 'Jan-07', 'Oct-06',\n",
       "       'Aug-95', 'May-94', 'Oct-02', 'Feb-85', 'May-98', 'May-02',\n",
       "       'Sep-94', 'Apr-92', 'Nov-01', 'Nov-69', 'Feb-01', 'Sep-84',\n",
       "       'Feb-02', 'Dec-04', 'Mar-02', 'Jun-05', 'Apr-69', 'Jan-94',\n",
       "       'Apr-77', 'Oct-91', 'Jul-02', 'Nov-90', 'Aug-97', 'Mar-87',\n",
       "       'Aug-98', 'Oct-96', 'Jun-71', 'Jul-91', 'Dec-03', 'Nov-99',\n",
       "       'Jul-97', 'May-86', 'Jan-98', 'Feb-95', 'Oct-98', 'Jul-03',\n",
       "       'Oct-03', 'Jun-89', 'Jul-79', 'Apr-95', 'Apr-94', 'Jan-96',\n",
       "       'Jun-00', 'Aug-77', 'Jul-96', 'Jul-92', 'May-00', 'Jul-84',\n",
       "       'Jan-82', 'Nov-03', 'Apr-80', 'May-93', 'Nov-86', 'Oct-84',\n",
       "       'Sep-87', 'Dec-05', 'Jul-99', 'Aug-09', 'Sep-93', 'Dec-73',\n",
       "       'Mar-94', 'Nov-95', 'Aug-03', 'Jul-95', 'Apr-00', 'Feb-97',\n",
       "       'Dec-91', 'Oct-94', 'Jul-94', 'Mar-97', 'Aug-99', 'Apr-82',\n",
       "       'May-96', 'May-83', 'Feb-06', 'Jun-10', 'Dec-94', 'Oct-04',\n",
       "       'Aug-86', 'Jul-07', 'Mar-98', 'May-85', 'Aug-87', 'Nov-89',\n",
       "       'Mar-03', 'Mar-84', 'Nov-04', 'Dec-97', 'Mar-99', 'Sep-92',\n",
       "       'Aug-02', 'Apr-04', 'Jul-78', 'Jun-88', 'Jul-90', 'Oct-92',\n",
       "       'Mar-90', 'Oct-77', 'Sep-90', 'Jan-89', 'Jan-08', 'May-97',\n",
       "       'Nov-83', 'Aug-89', 'Nov-05', 'Nov-98', 'Dec-92', 'Apr-03',\n",
       "       'Dec-88', 'Apr-02', 'Jan-04', 'May-82', 'Mar-82', 'Nov-79',\n",
       "       'Sep-85', 'Jun-81', 'Jun-04', 'Feb-91', 'Apr-87', 'Aug-84',\n",
       "       'Nov-00', 'Jun-97', 'Sep-74', 'Jul-04', 'Dec-00', 'Jun-83',\n",
       "       'Jul-00', 'Oct-85', 'Feb-92', 'Aug-04', 'May-76', 'Mar-05',\n",
       "       'Mar-06', 'Apr-07', 'Nov-06', 'Nov-07', 'Apr-93', 'Jun-07',\n",
       "       'Sep-91', 'Sep-88', 'Feb-08', 'Jun-86', 'May-03', 'May-05',\n",
       "       'Jul-87', 'May-09', 'Jun-79', 'Nov-87', 'Sep-78', 'Jan-80',\n",
       "       'Mar-79', 'Nov-94', 'Feb-79', 'Jun-84', 'May-07', 'Dec-85',\n",
       "       'May-91', 'Oct-08', 'Nov-96', 'Aug-92', 'Jun-99', 'Jul-86',\n",
       "       'Oct-97', 'Aug-91', 'Jan-01', 'Nov-88', 'Nov-02', 'Feb-05',\n",
       "       'May-95', 'Jul-88', 'Aug-94', 'Oct-90', 'Dec-83', 'Jun-01',\n",
       "       'Jan-03', 'Apr-81', 'Jul-11', 'Jan-93', 'Jun-87', 'Feb-04',\n",
       "       'Apr-97', 'Oct-95', 'Sep-81', 'Sep-82', 'Apr-91', 'Feb-99',\n",
       "       'Aug-81', 'Mar-04', 'Jul-93', 'Jun-96', 'Feb-74', 'May-92',\n",
       "       'May-06', 'Sep-83', 'Jun-85', 'Nov-08', 'Aug-88', 'Dec-87',\n",
       "       'Apr-90', 'Apr-96', 'Oct-93', 'Sep-03', 'Dec-86', 'Feb-07',\n",
       "       'Apr-78', 'Aug-83', 'Feb-84', 'Jan-02', 'Aug-05', 'Oct-82',\n",
       "       'Jul-85', 'May-90', 'Jun-03', 'Oct-87', 'Dec-72', 'Mar-08',\n",
       "       'Jun-77', 'Jan-10', 'Feb-03', 'Feb-77', 'Nov-92', 'May-99',\n",
       "       'Jan-05', 'Jan-86', 'Feb-98', 'Oct-83', 'May-89', 'Apr-85',\n",
       "       'Jul-09', 'May-74', 'Jun-95', 'Jul-10', 'May-08', 'Jun-90',\n",
       "       'Apr-84', 'Jan-97', 'Jan-85', 'Apr-99', 'Jun-92', 'Apr-86',\n",
       "       'Jun-74', 'Dec-07', 'Jun-91', 'Aug-78', 'Nov-10', 'Sep-86',\n",
       "       'Jul-89', 'Apr-09', 'Sep-08', 'Dec-84', 'Mar-09', 'Oct-88',\n",
       "       'May-88', 'Aug-73', 'May-79', 'Jan-09', 'Jan-92', 'Jul-06',\n",
       "       'Mar-86', 'Jun-08', 'Sep-89', 'Aug-07', 'Jul-77', 'Aug-85',\n",
       "       'Dec-02', 'Apr-89', 'Jul-82', 'Sep-07', 'Jan-87', 'Oct-07',\n",
       "       'Apr-11', 'Mar-85', 'Aug-90', 'Sep-80', 'Feb-68', 'Jan-84',\n",
       "       'Sep-79', 'Aug-10', 'Feb-94', 'Jul-08', 'Aug-08', 'Feb-09',\n",
       "       'May-84', 'Mar-07', 'Oct-10', 'Jan-64', 'Nov-84', 'Mar-10',\n",
       "       'May-87', 'Feb-89', 'Sep-10', 'Mar-78', 'Feb-86', 'Aug-74',\n",
       "       'Jul-76', 'Mar-66', 'Apr-76', 'Sep-75', 'Apr-75', 'Mar-88',\n",
       "       'Jun-93', 'Nov-09', 'Nov-78', 'Oct-76', 'Feb-83', 'Mar-75',\n",
       "       'Oct-62', 'Aug-80', 'Jan-11', 'Mar-72', 'Mar-81', 'Feb-80',\n",
       "       'Oct-80', 'Dec-82', 'Jan-78', 'Apr-83', 'Dec-79', 'Sep-73',\n",
       "       'Nov-81', 'Dec-09', 'Jan-74', 'Nov-82', 'Oct-70', 'Apr-79',\n",
       "       'Jan-76', 'Jan-79', 'Jan-67', 'May-80', 'Mar-11', 'May-81',\n",
       "       'Jun-69', 'Jan-77', 'Nov-74', 'Jun-80', 'Dec-10', 'Oct-86',\n",
       "       'Dec-78', 'Aug-79', 'Nov-72', 'Jan-83', 'Oct-75', 'Mar-83',\n",
       "       'Nov-85', 'Oct-65', 'Feb-10', 'May-77', 'Dec-81', 'Jan-55',\n",
       "       'Mar-76', 'Dec-77', 'Jul-83', 'Apr-10', 'Apr-73', 'Dec-74',\n",
       "       'Mar-80', 'Jun-72', 'Oct-78', 'Jul-70', 'Aug-82', 'Feb-78',\n",
       "       'Nov-67', 'May-71', 'Oct-79', 'Feb-70', 'Sep-71', 'Dec-65',\n",
       "       'Nov-76', 'Jul-69', 'Oct-60', 'Sep-77', 'Sep-64', 'Jan-73',\n",
       "       'Nov-80', 'Nov-77', 'Jan-81', 'Mar-74', 'Jun-65', 'Oct-09',\n",
       "       'Aug-67', 'Sep-66', 'Oct-81', 'Nov-70', 'Oct-69', 'May-10',\n",
       "       'May-68', 'Feb-75', 'Sep-72', 'Feb-81', 'May-11', 'Oct-71',\n",
       "       'Feb-11', 'May-78', 'Jul-81', 'Mar-73', 'May-64', 'Sep-70',\n",
       "       'Jul-80', 'May-75', 'Jan-70', 'Jul-74', 'Nov-71', 'Aug-75',\n",
       "       'Jun-76', 'Sep-65', 'Jun-78', 'Mar-69', 'Aug-69', 'Feb-69',\n",
       "       'Jan-71', 'Nov-64', 'Mar-77', 'Sep-76', 'Aug-71', 'Apr-74',\n",
       "       'Nov-75', 'Dec-69', 'Aug-11', 'Dec-75', 'Nov-65', 'Apr-68',\n",
       "       'Apr-64', 'Jun-75', 'Jul-75', 'Apr-65', 'Mar-67', 'Apr-67',\n",
       "       'Apr-70', 'Sep-69', 'Dec-70', 'Apr-71', 'Jan-72', 'Dec-71',\n",
       "       'Oct-73', 'Jul-71', 'Nov-60', 'Dec-66', 'Sep-67', 'Jun-73',\n",
       "       'Jun-58', 'Jul-73', 'Aug-72', 'Aug-66', 'Jan-75', 'Jun-11',\n",
       "       'Feb-71', 'Mar-68', 'Sep-68', 'Oct-67', 'Jun-63', 'Aug-76',\n",
       "       'Feb-76', 'Oct-54', 'Oct-74', 'Jan-65', 'May-66', 'May-62',\n",
       "       'Jul-59', 'Sep-11', 'Jul-72', 'Jan-62', 'May-70', 'Jul-64',\n",
       "       'Jan-68', 'Aug-70', 'Jan-61', 'Nov-73', 'Apr-66', 'Jun-70',\n",
       "       'Jul-60', 'Feb-72', 'May-72', 'Nov-62', 'Jan-53', 'Jul-67',\n",
       "       'Jan-66', 'Sep-62', 'May-73', 'Jun-66', 'Dec-68', 'Nov-63',\n",
       "       'Feb-67', 'Apr-72', 'Jul-66', 'May-69', 'May-59', 'Jan-63',\n",
       "       'Jan-69', 'Aug-65', 'Feb-73', 'Jul-68', 'Dec-56', 'Dec-60',\n",
       "       'Jul-62', 'Mar-70', 'Oct-72', 'Aug-64', 'Mar-71', 'May-63',\n",
       "       'Aug-68', 'Aug-60', 'Nov-66', 'Oct-64', 'Jan-51', 'Jan-60',\n",
       "       'Jul-63', 'Nov-56', 'Dec-67', 'May-67', 'Apr-61', 'Oct-66',\n",
       "       'Oct-68', 'Feb-66', 'Sep-63', 'Nov-54', 'Jul-65', 'Dec-64',\n",
       "       'May-50', 'Feb-60', 'Feb-65', 'Jun-64', 'May-65', 'Jun-67',\n",
       "       'Mar-65', 'Nov-68', 'Apr-62', 'Mar-63', 'Aug-63', 'Oct-59',\n",
       "       'Oct-61', 'Feb-64', 'Jun-59', 'Nov-59', 'Jan-59', 'Jun-68',\n",
       "       'Mar-64', 'Nov-11', 'Jun-62', 'Mar-60', 'Oct-63', 'Dec-63',\n",
       "       'Nov-50', 'Sep-59', 'Mar-61', 'May-58', 'Aug-62', 'Dec-50',\n",
       "       'Apr-63', 'Jun-61', 'Oct-50', 'Dec-62', 'May-53', 'Oct-57',\n",
       "       'Jan-44', 'Nov-53', 'Jul-61', 'Jan-48', 'Jul-55', 'Jan-57',\n",
       "       'Jan-46', 'Feb-61', 'Feb-57', 'Jun-60', 'Apr-55', 'Aug-46',\n",
       "       'Mar-59', 'Nov-61', 'Aug-61', 'Jan-58', 'Mar-62', 'Oct-11',\n",
       "       'Sep-56', 'Dec-58', 'Dec-51', 'Sep-60', 'Oct-58', 'Jan-56'],\n",
       "      dtype=object)"
      ]
     },
     "execution_count": 116,
     "metadata": {},
     "output_type": "execute_result"
    }
   ],
   "source": [
    "x_train_1['earliest_cr_line'].unique() "
   ]
  },
  {
   "cell_type": "code",
   "execution_count": null,
   "id": "49f8ab2f",
   "metadata": {},
   "outputs": [],
   "source": [
    "# transformimg the dates to standard datetime format and adding a new column with differ\n",
    "# the current date and the given date\n",
    "def date_columns(df,column):\n",
    " #storing the current date\n",
    " today_date=pd.to_datetime('2023-11-07')\n",
    " \n",
    " #converting the date columns to standard datetime\n",
    " df[column]=pd.to_datetime(df[column],format='%b-%y')\n",
    " \n",
    " #calculating the difference and creating a new feature\n",
    " df['months_since_' + column]=round((pd.to_numeric((today_date-df[column])/np.timedel\n",
    " \n",
    " #removing any possible negative values by replacing them with the max value\n",
    " df['months_since_' + column]=df['months_since_' + column].apply(lambda x: df['months_\n",
    "#calling the function\n",
    "date_columns(x_train_1,'earliest_cr_line')\n",
    "date_columns(x_train_1,'last_pymnt_d')\n",
    "date_columns(x_train_1,'last_credit_pull_d')\n",
    "date_columns(x_train_1,'issue_d')\n",
    "drop the earlier date columns\n",
    "x_train_1.drop(['earliest_cr_line','last_pymnt_d','last_credit_pull_d','issue_d'],axis=1)\n",
    "\n",
    "#checking the new columns\n",
    "print(x_train_1['months_since_earliest_cr_line'].describe())\n",
    "print(x_train_1['months_since_last_pymnt_d'].describe())\n",
    "print(x_train_1['months_since_last_credit_pull_d'].describe())\n",
    "print(x_train_1['months_since_issue_d'].describe())\n"
   ]
  },
  {
   "cell_type": "code",
   "execution_count": null,
   "id": "d1764e9e",
   "metadata": {},
   "outputs": [],
   "source": []
  },
  {
   "cell_type": "code",
   "execution_count": null,
   "id": "5691b282",
   "metadata": {},
   "outputs": [],
   "source": []
  },
  {
   "cell_type": "code",
   "execution_count": null,
   "id": "45e693b5",
   "metadata": {},
   "outputs": [],
   "source": []
  },
  {
   "cell_type": "code",
   "execution_count": null,
   "id": "b86ccac1",
   "metadata": {},
   "outputs": [],
   "source": []
  }
 ],
 "metadata": {
  "kernelspec": {
   "display_name": "Python 3 (ipykernel)",
   "language": "python",
   "name": "python3"
  },
  "language_info": {
   "codemirror_mode": {
    "name": "ipython",
    "version": 3
   },
   "file_extension": ".py",
   "mimetype": "text/x-python",
   "name": "python",
   "nbconvert_exporter": "python",
   "pygments_lexer": "ipython3",
   "version": "3.11.3"
  }
 },
 "nbformat": 4,
 "nbformat_minor": 5
}
